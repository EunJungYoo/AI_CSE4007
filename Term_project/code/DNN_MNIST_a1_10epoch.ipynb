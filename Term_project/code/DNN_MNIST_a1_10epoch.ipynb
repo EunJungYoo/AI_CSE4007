{
 "cells": [
  {
   "cell_type": "code",
   "execution_count": 16,
   "metadata": {
    "id": "GSyz6d_x3hHb"
   },
   "outputs": [],
   "source": [
    "import random\n",
    "import numpy as np\n",
    "from math import exp,log\n",
    "from matplotlib import pyplot as plt\n",
    "import time\n",
    "import torch\n",
    "import torchvision\n",
    "from torchvision import datasets, transforms\n",
    "import torch.nn as nn   \n",
    "import torch.optim as optim\n",
    "import pandas as pd\n",
    "import tensorflow as tf \n",
    "\n",
    "from __future__ import print_function\n",
    "from sklearn.datasets import fetch_openml\n",
    "from sklearn.decomposition import PCA\n",
    "from sklearn.manifold import TSNE\n",
    "import matplotlib.pyplot as plt\n",
    "from mpl_toolkits.mplot3d import Axes3D\n",
    "import seaborn as sns\n",
    "\n",
    "%matplotlib inline"
   ]
  },
  {
   "cell_type": "code",
   "execution_count": 17,
   "metadata": {
    "colab": {
     "base_uri": "https://localhost:8080/",
     "height": 484,
     "referenced_widgets": [
      "08f6bae4b41448eaa2e2861ebc931f97",
      "51b21ee54b944301b2cc7932c8d5ae4f",
      "b31fc459edda46eab842fd234014590b",
      "4db57093c82941ce8c4fd212a82ba035",
      "5ea5e62165264a5fb9bdfbc3e8520fcf",
      "f89264ddf23b455f908e67de41ed0256",
      "e0a2873694d048f39053c96dd989896b",
      "a3913b318a2d410faf4deb41646a9359",
      "0c7b66011a4843c9b6c438984c3f10b3",
      "31adfe3ef8a648229f1d040e33dd6eec",
      "9eb8d2fba2be4c7da17d80b56bfd5402",
      "5d4d431f095049718b122c8f936d5efa",
      "d1695e06d2734141961622038c002785",
      "9acf1c812a594c99b3e4d82d9949c8b7",
      "6471024a770b416c9dbc3e2638cdf240",
      "cad13584f3bf48bfa09a1edb25975b71",
      "23f46dcaec1247f3afc00c0b26f0128a",
      "7eaf0cd7efc24800bf0f410d56313cfc",
      "1f99569b7e8b4555a7edc52cd6598f4a",
      "bbd737f30d484889a0e321b07371b04f",
      "85fa3b5cf21a43989b58eba8c2cc169a",
      "1ff14fce5ed0490894dfb6b8e9ced961",
      "dd45ab9b340c489dbf8a9946f1157491",
      "11e6ba02a35a4eae8d57c31d1a8314d5",
      "01e4915ede4144ac82ffad111e39775f",
      "5a7dbc4299dd41e8b892c64e7c5050e1",
      "d1dc6692efd545c1bb082bfdbeb51b9a",
      "d77c42f319b54223be541183b6707e2e",
      "a9ec9c673ccb412e8bb87db039466908",
      "ac870fe1ee9448789723ae5fc4d75f49",
      "aaf8e50ef57646d1ac3be0a3e8afdedd",
      "0fde05067ac548a1b786b2cd24221e74",
      "a3240f3a238848939f611af42b3d4e52",
      "f6d16c5dd3184f8d9534726f6a476b47",
      "9666596c2c184bc0bccd471f14cdd86f",
      "3e2fc37deb1e43859b5e897978a6194a",
      "31348e22d64645b2ae43d12b91345f6d",
      "92c9bc68a43f4c3c84439468377cde3f",
      "b94df1268cec4d5a957e7142e2f99521",
      "ccc85d4180da46a8afdc951b0c05acc1",
      "565514bcfccf4273945ebea0cf958a64",
      "fefe0aff8cae44d6a9749f367727e9ea",
      "19b8ed38009346f89cb1361da3d84713",
      "e8fc06f15ae54abe8b36376dbcbd0353"
     ]
    },
    "id": "mfIoL8iN3hHe",
    "outputId": "d10d2bb0-2a31-42f5-9509-62e19c558239"
   },
   "outputs": [],
   "source": [
    "batch_size = 10000\n",
    "\n",
    "train_data = datasets.MNIST('datasets/', train=True, download = True, transform=transforms.ToTensor())\n",
    "test_data = datasets.MNIST('datasets/', train=False, download = True, transform=transforms.ToTensor())\n",
    "\n",
    "train_loader = torch.utils.data.DataLoader(train_data, batch_size = batch_size, shuffle=True)\n",
    "test_loader = torch.utils.data.DataLoader(test_data, batch_size = batch_size)"
   ]
  },
  {
   "cell_type": "code",
   "execution_count": 18,
   "metadata": {
    "colab": {
     "base_uri": "https://localhost:8080/"
    },
    "id": "hhuvEodo3hHf",
    "outputId": "ba896de5-f8af-4342-a8bb-975e992abaf6"
   },
   "outputs": [
    {
     "data": {
      "text/plain": [
       "Dataset MNIST\n",
       "    Number of datapoints: 60000\n",
       "    Root location: datasets/\n",
       "    Split: Train\n",
       "    StandardTransform\n",
       "Transform: ToTensor()"
      ]
     },
     "execution_count": 18,
     "metadata": {},
     "output_type": "execute_result"
    }
   ],
   "source": [
    "train_data  "
   ]
  },
  {
   "cell_type": "code",
   "execution_count": 19,
   "metadata": {
    "id": "YqiVHJCH3hHf"
   },
   "outputs": [],
   "source": [
    "class MLP(nn.Module):\n",
    "    def __init__(self):\n",
    "        super().__init__()\n",
    "        \n",
    "        self.in_dim = 28*28\n",
    "        self.out_dim = 10\n",
    "        \n",
    "        self.fc1 = nn.Linear(self.in_dim,512)\n",
    "        self.fc2 = nn.Linear(512,256)\n",
    "        self.fc3 = nn.Linear(256,128)\n",
    "        self.fc4 = nn.Linear(128,64)\n",
    "        self.fc5 = nn.Linear(64, self.out_dim)\n",
    "        \n",
    "        self.relu = nn.ReLU()\n",
    "        self.log_softmax = nn.LogSoftmax()\n",
    "        \n",
    "    def forward(self,x):\n",
    "        \n",
    "        z1 = self.fc1(x.view(-1,self.in_dim))\n",
    "        a1 = self.relu(self.fc1(x.view(-1,self.in_dim)))\n",
    "        #print(\"a1\",a1)\n",
    "        z2 = self.fc2(a1)\n",
    "        a2 = self.relu(self.fc2(a1))\n",
    "        #print(\"a2\",a2)\n",
    "        a3 = self.relu(self.fc3(a2))\n",
    "        #print(\"a3\",a3)\n",
    "        a4 = self.relu(self.fc4(a3))\n",
    "        #print(\"a4\",a4)\n",
    "        logit = self.fc5(a4)\n",
    "        return logit, z1, a1, z2, a2, a3, a4"
   ]
  },
  {
   "cell_type": "code",
   "execution_count": 20,
   "metadata": {
    "id": "cR6ZpYi13hHg"
   },
   "outputs": [],
   "source": [
    "model= MLP()\n",
    "criterion = nn.CrossEntropyLoss()\n",
    "optimizer = optim.SGD(model.parameters(), lr=0.01)\n"
   ]
  },
  {
   "cell_type": "code",
   "execution_count": 21,
   "metadata": {
    "colab": {
     "base_uri": "https://localhost:8080/"
    },
    "id": "X1ptvo-c3hHh",
    "outputId": "b7d8b9d4-7010-4ba4-94b1-134a9db505fa",
    "scrolled": true
   },
   "outputs": [
    {
     "name": "stdout",
     "output_type": "stream",
     "text": [
      "0 0\n",
      "0 0\n",
      "Finished Training\n"
     ]
    }
   ],
   "source": [
    "for epoch in range(1):\n",
    "    running_loss=0.0\n",
    "    for i, data in enumerate(train_loader,0):\n",
    "        inputs, labels = data\n",
    "        \n",
    "        optimizer.zero_grad()\n",
    "        \n",
    "        outputs, z1, a1, z2, a2, a3, a4 = model(inputs)\n",
    "        \n",
    "        if(epoch == 0 and i == 0):\n",
    "            print(epoch, i)\n",
    "            z11 = z1\n",
    "            z22 = z2\n",
    "            a11 = a1\n",
    "            a22 = a2\n",
    "            label = labels\n",
    "            \n",
    "            a11 = a11.detach().numpy()\n",
    "            a22 = a22.detach().numpy()\n",
    "            z11 = z11.detach().numpy()\n",
    "            z22 = z22.detach().numpy()\n",
    "            label = label.detach().numpy()\n",
    "            print(epoch, i)\n",
    "        else:\n",
    "          if(i % 1000 == 0) : \n",
    "            print(i)\n",
    "          a1 = a1.detach().numpy()\n",
    "          a2 = a2.detach().numpy()\n",
    "          z1 = z1.detach().numpy()\n",
    "          z2 = z2.detach().numpy()\n",
    "          label2 = labels.detach().numpy()\n",
    "        \n",
    "          z11 = tf.concat([z11,z1],0)\n",
    "          z22 = tf.concat([z22,z2],0)\n",
    "          a11 = tf.concat([a11,a1],0)\n",
    "          a22 = tf.concat([a22,a2],0)\n",
    "          label = tf.concat([label,label2],0)\n",
    "        \n",
    "        loss = criterion(outputs, labels)\n",
    "        loss.backward()\n",
    "        optimizer.step()\n",
    "\n",
    "        \n",
    "        running_loss += loss.item()\n",
    "        if (i+1) % 100 ==0:\n",
    "            print('[%d, %5d] loss: %.3f' %\n",
    "                 (epoch + 1, i+1, running_loss/2000))\n",
    "            running_loss = 0.0\n",
    "            \n",
    "print(\"Finished Training\")"
   ]
  },
  {
   "cell_type": "code",
   "execution_count": 22,
   "metadata": {
    "colab": {
     "base_uri": "https://localhost:8080/"
    },
    "id": "ZWA-QvnA3hHi",
    "outputId": "21e17b52-82d2-4caa-f76b-417adf373278"
   },
   "outputs": [
    {
     "data": {
      "text/plain": [
       "array([7, 7, 2, ..., 4, 4, 5], dtype=int64)"
      ]
     },
     "execution_count": 22,
     "metadata": {},
     "output_type": "execute_result"
    }
   ],
   "source": [
    "label = label.numpy()\n",
    "label"
   ]
  },
  {
   "cell_type": "code",
   "execution_count": 23,
   "metadata": {
    "id": "ktZMquDt3hHi"
   },
   "outputs": [],
   "source": [
    "def imshow(img):\n",
    "    npimg = img.numpy()\n",
    "    plt.imshow(np.transpose(npimg,(1,2,0)))\n",
    "    plt.show()"
   ]
  },
  {
   "cell_type": "code",
   "execution_count": 24,
   "metadata": {
    "colab": {
     "base_uri": "https://localhost:8080/",
     "height": 578
    },
    "id": "ngD1-oSN3hHj",
    "outputId": "bf94ae2e-90b0-4b56-a1e1-47cceaac7432"
   },
   "outputs": [
    {
     "data": {
      "image/png": "[encoded data removed]",
      "text/plain": [
       "<Figure size 432x288 with 1 Axes>"
      ]
     },
     "metadata": {
      "needs_background": "light"
     },
     "output_type": "display_data"
    },
    {
     "name": "stdout",
     "output_type": "stream",
     "text": [
      "GroundTruth\n",
      "    7   2   1   0   4   1   4   9   5   9   0   6   9   0   1   5   9   7   3   4   9   6   6   5   4   0   7   4   0   1   3   1   3   4   7   2   7   1   2   1   1   7   4   2   3   5   1   2   4   4   6   3   5   5   6   0   4   1   9   5   7   8   9   3   7   4   6   4   3   0   7   0   2   9   1   7   3   2   9   7   7   6   2   7   8   4   7   3   6   1   3   6   9   3   1   4   1   7   6   9   6   0   5   4   9   9   2   1   9   4   8   7   3   9   7   4   4   4   9   2   5   4   7   6   7   9   0   5   8   5   6   6   5   7   8   1   0   1   6   4   6   7   3   1   7   1   8   2   0   2   9   9   5   5   1   5   6   0   3   4   4   6   5   4   6   5   4   5   1   4   4   7   2   3   2   7   1   8   1   8   1   8   5   0   8   9   2   5   0   1   1   1   0   9   0   3   1   6   4   2   3   6   1   1   1   3   9   5   2   9   4   5   9   3   9   0   3   6   5   5   7   2   2   7   1   2   8   4   1   7   3   3   8   8   7   9   2   2   4   1   5   9   8   7   2   3   0   4   4   2   4   1   9   5   7   7   2   8   2   6   8   5   7   7   9   1   8   1   8   0   3   0   1   9   9   4   1   8   2   1   2   9   7   5   9   2   6   4   1   5   8   2   9   2   0   4   0   0   2   8   4   7   1   2   4   0   2   7   4   3   3   0   0   3   1   9   6   5   2   5   9   2   9   3   0   4   2   0   7   1   1   2   1   5   3   3   9   7   8   6   5   6   1   3   8   1   0   5   1   3   1   5   5   6   1   8   5   1   7   9   4   6   2   2   5   0   6   5   6   3   7   2   0   8   8   5   4   1   1   4   0   3   3   7   6   1   6   2   1   9   2   8   6   1   9   5   2   5   4   4   2   8   3   8   2   4   5   0   3   1   7   7   5   7   9   7   1   9   2   1   4   2   9   2   0   4   9   1   4   8   1   8   4   5   9   8   8   3   7   6   0   0   3   0   2   6   6   4   9   3   3   3   2   3   9   1   2   6   8   0   5   6   6   6   3   8   8   2   7   5   8   9   6   1   8   4   1   2   5   9   1   9   7   5   4   0   8   9   9   1   0   5   2   3   7   8   9   4   0   6   3   9   5   2   1   3   1   3   6   5   7   4   2   2   6   3   2   6   5   4   8   9   7   1   3   0   3   8   3   1   9   3   4   4   6   4   2   1   8   2   5   4   8   8   4   0   0   2   3   2   7   7   0   8   7   4   4   7   9   6   9   0   9   8   0   4   6   0   6   3   5   4   8   3   3   9   3   3   3   7   8   0   8   2   1   7   0   6   5   4   3   8   0   9   6   3   8   0   9   9   6   8   6   8   5   7   8   6   0   2   4   0   2   2   3   1   9   7   5   1   0   8   4   6   2   6   7   9   3   2   9   8   2   2   9   2   7   3   5   9   1   8   0   2   0   5   2   1   3   7   6   7   1   2   5   8   0   3   7   2   4   0   9   1   8   6   7   7   4   3   4   9   1   9   5   1   7   3   9   7   6   9   1   3   7   8   3   3   6   7   2   8   5   8   5   1   1   4   4   3   1   0   7   7   0   7   9   4   4   8   5   5   4   0   8   2   1   0   8   4   5   0   4   0   6   1   7   3   2   6   7   2   6   9   3   1   4   6   2   5   4   2   0   6   2   1   7   3   4   1   0   5   4   3   1   1   7   4   9   9   4   8   4   0   2   4   5   1   1   6   4   7   1   9   4   2   4   1   5   5   3   8   3   1   4   5   6   8   9   4   1   5   3   8   0   3   2   5   1   2   8   3   4   4   0   8   8   3   3   1   7   3   5   9   6   3   2   6   1   3   6   0   7   2   1   7   1   4   2   4   2   1   7   9   6   1   1   2   4   8   1   7   7   4   8   0   7   3   1   3   1   0   7   7   0   3   5   5   2   7   6   6   9   2   8   3   5   2   2   5   6   0   8   2   9   2   8   8   8   8   7   4   9   3   0   6   6   3   2   1   3   2   2   9   3   0   0   5   7   8   1   4   4   6   0   2   9   1   4   7   4   7   3   9   8   8   4   7   1   2   1   2   2   3   2   3   2   3   9   1   7   4   0   3   5   5   8   6   3   2   6   7   6   6   3   2   7   8   1   1   7   5   6   4   9   5   1   3   3   4   7   8   9   1   1   6   9   1   4   4   5   4   0   6   2   2   3   1   5   1   2   0   3   8   1   2   6   7   1   6   2   3   9   0   1   2   2   0   8   9   9   0   2   5   1   9   7   8   1   0   4   1   7   9   6   4   2   6   8   1   3   7   5   4   4   1   8   1   3   8   1   2   5   8   0   6   2   1   1   7   1   5   3   4   6   9   5   0   9   2   2   4   8   2   1   7   2   4   9   4   4   0   3   9   2   2   3   3   8   3   5   7   3   5   8   1   2   4   4   6   4   9   5   1   0   6   9   5   9   5   9   7   3   8   0   3   7   1   3   6   7   8   5   9   7   9   6   9   6   3   7   4   4   5   3   5   4   7   8   7   8   0   7   6   8   8   7   3   3   1   9   5   2   7   3   5   1   1   2   1   4   7   4   7   5   4   5   4   0   8   3   6   9   6   0   2   7   4   4   4   4   6   6   4   7   9   3   4   5   5   8   7   3   7   2   7   0   2   4   1   1   6   6   9   2   8   7   2   0   1   5   0   9   1   7   0   6   0   8   6   8   1   8   0   3   3   7   2   3   6   2   1   6   1   1   3   7   9   0   8   0   5   4   0   2   8   7   2   9   8   4   0   9   5   8   5   1   2   1   3   1   7   4   5   7   2   0   9   8   8   6   2   5   4   1   9   2   1   5   8   7   0   2   4   4   3   6   8   8   2   4   0   5   0   4   4   7   9   3   4   1   5   9   7   3   5   8   8   0   5   3   3   6   6   0   1   6   0   3   5   4   4   1   2   9   1   4   6   9   9   3   9   8   4   4   3   1   3   1   8   8   7   9   4   8   8   7   9   7   1   4   5   6   0   5   2   2   2   1   5   5   2   4   9   6   2   7   7   2   2   1   1   2   8   3   7   2   4   1   7   1   7   6   7   8   2   7   3   1   7   5   8   2   6   2   2   5   6   5   0   9   2   4   3   3   9   7   6   6   8   0   4   1   5   8   2   9   1   8   0   6   7   2   1   0   5   5   2   0   2   2   0   2   4   9   8   0   9   9   4   6   5   4   9   1   8   3   4   9   9   1   2   2   8   1   9   6   4   0   9   4   8   3   8   6   0   2   5   1   9   6   2   9   4   0   9   6   0   6   2   5   4   2   3   8   4   5   5   0   3   8   5   3   5   8   6   5   7   6   3   3   9   6   1   1   2   9   0   4   3   3   6   9   5   7   3   7   7   7   8   7   9   8   3   0   7   2   7   9   4   5   4   9   3   2   1   4   0   2   3   7   5   7   8   8   5   0   1   1   4   8   3   9   0   0   0   6   6   2   3   7   8   4   7   7   9   2   4   1   4   5   2   4   9   9   1   8   4   0   9   8   4   8   7   7   0   7   8   8   6   0   4   8   8   2   4   7   6   6   6   4   7   1   8   8   2   3   6   3   0   0   3   7   6   9   7   9   9   5   4   3   3   6   1   2   3   7   3   3   2   0   3   3   8   4   3   6   3   5   0   2   0   9   0   7   4   6   9   3   5   1   9   6   1   4   5   4   5   0   5   9   5   2   1   2   9   1   9   9   4   0   8   4   5   2   9   2   1   2   1   7   3   6   8   8   4   9   1   9   8   5   7   5   1   1   8   6   5   2   4   4   3   2   3   5   6   8   8   6   2   3   1   0   5   8   9   2   9   6   7   0   4   8   7   1   7   4   1   0   9   7   2   0   0   9   1   7   8   7   8   4   7   2   0   4   6   0   3   1   1   3   3   9   6   7   4   1   5   3   0   8   7   3   9   6   9   3   5   0   2   7   4   5   1   7   5   8   0   8   8   1   5   0   3   0   3   1   4   0   3   7   2   7   1   8   0   7   0   4   3   1   9   8   7   7   1   4   9   9   3   2   1   7   9   0   2   0   3   3   7   6   9   2   3   3   7   7   0   0   7   5   2   9   8   7   4   4   2   6   6   1   9   6   8   2   9   0   8   3   1   1   6   3   5   1   1   1   3   1   2   3   0   2   0   1   3   5   5   7   4   8   9   6   9   6   8   3   6   6   8   5   1   4   2   4   4   5   1   1   9   0   2   4   9   5   7   1   8   8   5   6   9   8   7   1   1   6   7   6   3   2   2   0   8   9   2   5   1   0   8   1   9   5   7   9   6   9   0   6   1   5   5   8   3   8   2   6   5   0   7   4   6   1   3   4   7   3   2   3   4   2   5   2   7   1   7   2   6   4   1   5   7   8   6   0   1   8   2   5   7   7   6   9   3   5   8   4   2   4   0   8   8   3   4   9   2   7   5   8   6   5   6   0   8   6   7   3   6   4   9   4   6   6   3   2   4   1   0   1   4   6   2   9   1   1   0   6   3   9   5   6   5   6   5   8   4   6   4   3   9   1   3   4   1   9   1   7   1   1   9   3   5   4   0   7   3   6   1   7   5   5   3   3   0   1   5   7   5   8   6   5   1   0   4   2   3   4   6   7   9   8   1   8   4   9   2   8   6   2   7   0   0   6   7   5   8   6   0   9   3   7   1   3   5   4   3   3   5   5   6   3   0   2   3   4   2   3   0   9   9   4   7   2   8   4   7   0   6   2   8   5   2   8   5   7   3   0   8   2   3   2   8   2   5   5   7   6   4   6   8   4   8   2   7   4   5   2   0   3   9   4   6   7   2   5   6   1   1   2   3   6   7   8   7   6   4   8   9   4   8   6   3   8   3   1   0   6   2   2   5   6   9   5   8   1   4   1   7   8   4   6   1   8   4   3   1   2   8   0   8   5   9   1   4   2   0   2   7   0   9   0   2   5   7   6   7   9   4   2   6   2   4   4   8   0   4   4   5   8   0   6   8   9   8   5   6   9   0   4   8   7   1   3   4   5   8   0   9   1   3   3   6   9   8   7   1   0   5   7   1   7   5   2   7   9   1   8   5   2   4   9   4   7   2   2   3   4   9   1   9   2   1   7   9   4   4   1   6   7   2   7   8   8   1   9   7   1   1   7   5   3   3   5   1   3   7   6   1   3   8   7   5   9   9   0   0   2   8   8   2   3   7   1   3   0   3   4   4   3   8   9   2   3   9   7   1   1   7   0   4   9   6   5   9   1   7   0   2   0   0   4   6   7   0   7   1   4   6   4   5   4   9   9   1   7   9   5   3   3   8   2   3   6   2   2   1   1   1   1   1   6   9   8   4   3   7   1   6   4   5   0   4   7   4   2   4   0   7   0   1   9   8   8   6   0   0   4   9   6   8   2   2   3   8   4   8   2   2   1   7   5   4   4   0   4   3   9   7   3   1   0   1   2   5   9   2   1   0   1   8   9   1   6   8   3   8   9   3   6   2   8   3   2   2   1   0   4   2   9   2   4   3   7   9   1   5   2   4   9   0   3   8   5   3   6   0   9   4   6   2   5   0   2   7   4   6   6   8   6   6   8   6   9   1   7   2   5   9   9   0   7   2   7   6   7   0   6   5   2   4   7   2   0   9   9   2   2   9   4   4   2   3   3   2   1   7   0   7   6   4   1   3   8   7   4   5   9   2   5   1   8   7   3   7   1   5   5   0   9   1   4   0   6   3   3   6   0   4   9   7   5   1   6   8   9   5   5   7   9   3   8   3   8   1   5   3   5   0   5   5   3   8   6   7   7   7   3   7   0   5   9   0   2   5   5   3   1   7   7   8   6   5   9   3   8   9   5   3   7   9   1   7   0   0   3   7   2   5   8   1   8   6   2   9   5   7   5   7   8   6   2   5   1   4   8   4   5   8   3   0   6   2   7   3   3   2   1   0   7   3   4   0   3   9   3   2   8   9   0   3   8   0   7   6   5   4   7   3   9   0   8   6   2   5   6   1   0   0   4   4   0   1   2   3   2   7   7   8   5   2   5   7   6   9   1   4   1   6   4   2   4   3   5   4   3   9   5   0   1   5   3   8   9   1   9   7   9   5   5   2   7   4   6   0   1   1   1   0   4   4   7   6   3   0   0   4   3   0   6   1   9   6   1   3   8   1   2   5   6   2   7   3   6   0   1   9   7   6   6   8   9   2   9   5   8   3   1   0   0   7   6   6   2   1   6   9   3   1   8   6   9   0   6   0   0   0   6   3   5   9   3   4   5   5   8   5   3   0   4   0   2   9   6   8   2   3   1   2   1   1   5   6   9   8   0   6   6   5   5   3   8   6   2   1   4   5   4   3   7   8   5   0   9   3   5   1   1   0   4   4   7   0   1   7   0   1   6   1   4   5   6   6   5   7   8   4   4   7   2   5   3   7   0   7   7   9   6   4   2   8   5   7   8   3   9   5   8   9   9   8   6   2   8   9   2   3   6   1   1   8   9   3   4   0   7   9   6   4   1   4   1   3   4   9   3   1   4   7   7   4   7   2   9   3   0   8   8   8   4   0   4   4   1   5   2   8   3   4   9   5   2   8   1   5   3   7   9   4   2   5   6   3   5   9   3   5   9   3   1   9   5   3   0   6   9   8   4   0   4   9   2   9   0   1   0   3   1   6   5   8   1   5   3   3   0   3   5   5   9   2   8   7   0   4   9   1   9   7   7   5   5   2   0   9   1   8   6   2   3   9   6   2   1   9   1   3   5   5   0   3   8   3   3   7   6   6   0   1   4   0   6   9   8   1   2   9   9   5   9   7   3   7   8   0   1   3   0   4   6   1   0   2   5   8   4   4   1   1   5   4   6   6   0   6   9   2   6   2   7   1   7   9   4   0   0   3   8   2   2   3   1   6   0   5   7   7   9   2   6   7   9   7   8   6   8   8   4   6   8   4   1   2   8   1   3   9   4   0   3   7   3   2   3   3   7   3   4   0   6   2   0   8   1   5   3   5   4   1   7   1   5   7   5   7   3   2   2   7   3   7   3   7   8   5   4   5   2   5   6   5   3   6   7   4   1   7   1   5   2   3   6   3   1   4   2   6   7   4   3   8   0   6   2   1   6   5   3   9   1   9   3   2   1   8   4   4   6   5   8   6   9   7   7   8   6   9   7   3   9   4   0   5   4   6   4   1   2   3   0   0   2   6   6   5   7   0   8   6   4   7   9   0   7   3   4   2   1   8   8   5   9   2   7   1   8   8   8   2   7   6   0   1   2   7   1   0   8   3   6   0   5   3   6   2   8   7   0   1   4   2   1   1   4   4   4   4   7   1   6   2   9   9   0   0   1   8   8   4   3   4   2   0   6   1   6   1   2   2   2   1   2   3   7   8   1   0   0   2   1   6   6   0   1   6   2   5   1   7   4   8   2   1   4   3   8   3   9   9   4   8   3   4   7   2   7   5   7   0   4   3   3   2   6   7   6   0   0   6   7   7   0   5   5   8   1   0   7   0   2   8   1   5   0   8   8   0   3   2   7   7   2   6   4   7   5   5   5   2   9   2   8   4   6   8   6   5   0   0   8   7   6   1   7   1   1   2   7   4   0   0   7   7   6   3   8   6   4   2   0   9   4   0   5   7   8   2   7   4   7   1   1   3   6   6   2   9   1   9   4   8   3   6   9   5   9   6   2   4   6   7   7   0   6   6   9   4   8   3   5   3   4   9   0   0   5   2   5   0   7   1   1   1   6   7   6   7   9   6   6   4   1   4   3   1   1   2   2   4   1   0   8   7   6   3   4   0   0   6   3   3   0   7   1   7   1   1   3   1   0   9   9   7   5   4   1   4   8   9   5   3   5   1   9   8   2   3   3   9   9   0   1   0   2   9   3   9   3   3   6   2   4   9   8   3   7   4   0   4   7   8   4   9   8   9   9   7   5   9   2   8   2   2   0   2   2   3   8   4   6   8   6   8   2   4   6   7   9   3   3   9   4   3   1   4   4   7   0   5   9   6   0   4   4   4   4   6   1   2   3   3   6   4   5   9   6   8   5   6   5   8   6   4   1   8   6   5   2   8   4   5   5   4   7   7   0   7   8   2   2   3   7   0   1   8   0   7   1   9   8   7   5   5   9   1   7   5   4   9   1   2   2   1   6   6   7   1   1   4   0   7   4   2   4   0   6   4   7   6   9   5   3   4   6   5   0   1   8   8   2   8   3   5   7   8   0   8   5   7   1   1   0   1   3   7   8   5   0   7   1   1   0   1   1   4   5   2   7   6   2   3   0   2   8   5   9   6   9   7   2   1   3   6   4   1   8   2   4   0   5   1   0   2   2   6   4   4   3   9   6   1   6   5   7   9   2   0   2   6   0   1   4   3   5   2   8   8   0   8   8   9   0   9   6   7   6   3   9   3   4   7   7   7   4   9   0   6   4   8   4   2   7   2   8   1   0   0   7   8   3   3   3   1   3   7   6   1   3   1   6   6   5   7   4   7   5   9   5   8   4   9   9   1   6   5   0   1   3   7   0   3   4   8   2   2   0   2   5   1   5   1   4   8   8   9   1   2   1   3   5   1   0   9   4   4   8   3   2   5   9   7   6   6   2   0   0   0   5   8   7   1   5   2   3   8   5   1   8   2   0   4   9   9   6   2   3   3   5   6   4   8   0   9   2   8   3   6   7   5   7   2   9   4   9   1   2   8   6   0   7   0   9   1   1   6   7   5   9   9   1   9   5   9   2   5   0   4   1   0   8   9   0   8   9   8   9   4   2   5   7   9   8   9   8   0   9   9   6   8   9   9   5   9   8   5   1   0   3   3   5   2   1   6   5   0   2   8   1   5   6   2   3   0   2   2   6   4   3   5   5   1   7   2   1   6   9   1   9   9   5   5   1   6   2   2   8   6   7   1   4   6   0   4   0   3   3   2   2   3   6   8   9   8   5   3   8   5   4   5   2   0   5   6   3   2   8   3   9   9   5   7   9   4   6   7   1   3   7   3   6   6   0   9   0   1   9   9   2   8   8   0   1   6   9   7   5   3   4   7   4   9   9   4   3   6   3   1   1   7   6   9   1   8   4   1   1   9   9   4   3   6   8   1   6   0   4   1   3   7   7   4   9   5   1   0   0   1   1   6   2   1   9   8   4   0   3   6   4   9   0   7   1   6   5   7   5   2   5   1   8   5   4   7   0   6   7   0   2   5   8   1   0   4   5   7   1   8   5   1   9   0   0   6   0   7   3   1   8   3   9   7   0   0   8   9   5   9   8   3   2   7   2   9   7   2   1   1   3   7   5   3   1   9   8   2   2   2   8   8   5   7   3   8   9   8   8   6   8   2   3   9   7   5   6   2   9   2   8   8   1   6   8   8   7   9   1   8   0   1   7   2   0   7   5   1   9   0   2   0   9   8   6   2   3   9   3   8   0   2   1   1   1   1   4   2   9   7   2   5   1   1   2   1   9   9   9   1   0   2   0   2   1   1   4   6   4   1   5   4   9   7   7   1   5   6   2   2   2   8   0   6   9   6   1   9   7   7   1   4   8   5   3   4   3   4   9   7   5   0   7   4   8   8   1   5   3   9   5   9   7   6   9   0   3   6   3   9   8   2   2   1   2   8   6   8   5   5   3   9   4   9   2   5   1   5   1   4   4   1   4   4   3   5   9   1   2   2   3   3   0   2   9   0   0   9   9   6   0   9   3   2   8   4   1   9   9   7   2   7   9   9   5   9   5   1   1   8   3   5   1   9   5   3   5   4   9   5   9   3   1   9   0   9   7   5   4   9   2   0   1   0   5   1   4   9   3   3   6   1   5   2   5   2   2   0   9   2   6   6   0   1   2   0   3   0   2   5   5   7   9   5   5   0   8   9   5   0   3   2   5   9   0   8   8   4   5   8   8   4   5   4   8   5   4   9   2   2   1   2   6   8   8   7   0   3   6   6   4   3   8   8   7   2   2   0   0   9   3   9   9   1   9   8   6   6   4   2   6   9   2   8   5   4   5   7   9   9   9   2   1   8   3   4   0   7   8   3   9   3   4   6   5   6   2   3   9   2   6   0   0   6   1   2   8   7   9   8   2   0   4   7   7   5   0   5   6   4   6   7   4   3   0   7   5   0   7   4   2   0   8   9   9   4   2   4   6   7   8   7   6   9   4   1   3   7   3   0   8   8   7   6   9   3   9   2   2   9   2   1   8   3   2   9   6   8   4   0   1   2   8   4   5   2   7   8   1   1   3   0   3   5   7   0   3   1   9   3   6   3   1   7   7   3   0   8   4   8   2   6   5   2   9   7   3   9   0   9   9   6   4   2   9   7   2   1   1   6   7   4   7   5   9   6   8   2   1   4   4   5   7   6   1   3   2   5   9   9   3   6   1   1   4   6   9   7   2   1   5   1   4   6   3   8   1   1   0   3   1   6   8   4   9   0   7   3   0   2   9   0   6   6   6   3   6   7   7   2   8   6   0   8   3   0   2   9   8   3   2   5   3   8   8   0   0   1   9   5   1   3   9   6   0   1   4   1   7   1   2   3   7   9   7   4   9   9   3   9   2   8   2   7   1   8   0   9   1   0   1   7   7   9   6   9   9   9   2   1   6   1   3   5   7   1   9   7   6   4   5   7   6   6   9   9   6   3   6   2   9   8   1   2   2   5   5   2   3   7   2   1   0   1   0   4   5   2   8   2   8   3   5   1   7   8   1   1   2   9   7   8   4   0   3   0   7   8   8   4   7   7   8   5   8   4   9   8   1   3   8   0   3   1   7   9   5   5   1   6   5   7   4   9   3   5   4   7   1   2   0   8   1   6   0   7   3   4   7   3   9   6   0   8   6   4   8   7   7   9   3   8   6   9   7   2   3   4   0   2   1   8   3   5   5   7   2   4   6   7   2   8   3   0   8   7   8   9   0   8   4   4   5   8   5   6   6   3   0   9   3   7   6   8   9   3   4   9   5   8   9   1   2   8   8   6   8   1   3   7   9   0   1   1   4   7   0   8   1   7   4   5   7   1   2   1   1   3   9   6   2   1   2   8   0   7   6   6   9   3   7   0   5   2   8   0   5   4   3   8   4   6   6   2   7   9   5   1   3   2   4   3   6   1   9   4   4   7   6   5   4   1   9   9   2   7   8   0   1   3   6   1   3   4   1   1   1   5   6   0   7   0   7   2   3   2   5   2   2   9   4   9   8   1   2   1   6   1   2   7   8   0   0   0   8   2   2   9   2   2   7   9   9   2   7   5   1   3   4   9   4   1   8   5   6   2   8   3   1   2   8   4   9   9   3   7   0   7   7   2   3   2   4   0   3   9   9   8   4   1   0   6   0   9   6   8   6   1   1   9   8   9   2   3   5   5   9   4   2   1   9   4   3   9   6   0   4   0   6   0   1   2   3   4   7   8   9   0   1   2   3   4   7   8   9   0   1   2   3   4   5   6   7   8   9   8   3   4   7   8   6   3   4   0   9   7   1   9   3   8   4   7   3   0   9   1   4   5   4   6   2   0   6   2   1   1   1   1   7   2   4   7   5   2   9   4   5   8   4   2   9   7   0   0   7   5   1   1   7   6   6   6   8   2   2   7   7   4   0   2   4   2   1   8   9   6   1   0   5   9   6   9   8   0   3   0   8   3   9   6   3   0   1   2   3   4   5   6   7   0   1   2   3   4   5   6   7   8   9   0   1   2   3   4   5   6   7   8   5   4   8   7   4   7   7   3   9   8   8   3   1   5   8   2   7   4   2   1   5   4   5   5   8   6   4   4   4   1   8   7   5   5   1   8   9   1   3   6   3   3   2   2   6   9   9   6   5   5   3   3   8   1   6   5   6   8   1   9   7   6   8   3   7   4   7   0   9   0   0   3   7   9   3   0   2   0   1   0   1   0   4   0   1   0   4   7   9   6   2   6   2   2   9   9   0   1   2   3   4   5   6   7   8   9   0   1   2   3   4   5   6   7   8   9   0   1   2   3   4   5   6   7   8   9   8   0   5   6   6   0   8   0   2   3   7   9   4   7   1   9   1   7   1   4   0   0   4   1   7   5   7   1   3   3   3   1   6   9   7   4   3   0   2   5   2   6   0   8   9   4   3   5   4   8   1   5   9   0   6   4   3   6   3   3   8   1   4   7   5   7   2   2   0   0   1   7   7   9   5   9   8   9   6   8   8   2   3   6   1   2   9   8   9   5   2   6   2   4   8   4   6   5   0   1   5   6   7   8   9   0   1   2   3   4   5   6   7   8   9   0   1   2   3   4   5   6   7   8   9   7   4   2   0   9   0   1   5   8   8   0   2   7   8   4   4   6   1   0   4   5   3   9   4   2   0   5   0   1   3   2   9   1   6   0   1   1   8   0   4   7   7   6   3   6   0   7   3   5   4   2   4   1   8   3   5   6   7   0   6   7   1   2   5   8   1   9   3   8   2   8   7   6   7   1   4   6   2   9   3   0   1   2   3   4   5   6   7   0   1   2   3   4   5   0   1   2   8   9   1   4   0   9   5   0   8   0   7   7   1   1   2   9   3   6   7   2   3   8   1   2   9   8   8   7   1   7   1   1   0   3   4   2   6   4   7   4   2   7   4   9   1   0   6   8   5   5   5   3   5   9   7   4   8   5   9   6   9   3   0   3   8   9   1   8   1   6   0   0   1   2   3   4   5   6   7   8   9   0   1   2   3   4   5   6   7   8   9   0   1   2   3   4   5   6   7   8   9   3   5   3   2   9   3   2   1   4   5   5   2   3   2   1   3   9   7   2   1   2   8   9   1   8   8   7   8   1   0   0   7   7   8   7   5   0   6   1   5   7   4   6   1   2   5   0   7   9   9   0   3   8   4   4   8   1   8   6   5   9   0   0   0   3   7   1   6   4   2   6   6   0   4   5   4   1   3   8   6   3   9   9   5   9   3   7   8   5   6   4   7   6   2   2   0   9   4   0   1   2   3   4   5   6   7   8   9   0   1   2   3   5   6   0   1   2   3   4   5   6   8   7   1   3   2   8   0   7   5   9   9   6   0   9   4   1   3   2   1   2   3   8   3   2   6   5   6   8   2   7   4   8   1   8   0   5   3   9   4   1   9   2   1   9   6   7   9   0   4   6   1   7   3   8   7   2   9   6   5   8   3   9   0   5   7   1   6   1   0   9   3   3   4   4   0   6   2   5   4   2   3   4   6   0   0   2   0   1   4   5   6   7   8   9   0   1   2   3   4   5   6   7   8   0   1   2   3   4   5   6   7   8   9   8   7   1   3   7   5   2   8   0   7   5   9   9   0   9   1   1   5   8   8   6   3   2   1   8   3   2   6   5   6   7   4   1   0   5   3   1   9   2   1   9   6   0   4   6   1   7   3   8   7   2   9   6   5   8   3   5   7   1   6   1   0   9   6   2   5   4   2   3   4   4   6   0   0   2   0   1   2   3   4   5   6   7   8   9   0   1   2   3   4   5   6   7   8   9   0   1   2   3   4   5   6   7   8   9   8   6   5   0   6   8   9   4   1   9   5   3   0   4   8   9   1   4   0   5   5   2   1   5   4   0   7   6   0   1   7   0   6   8   9   5   1   7   9   8   6   0   8   1   7   7   1   3   2   3   1   4   2   0   0   7   8   4   6   4   9   3   8   4   7   2   5   6   3   6   9   6   3   2   2   4   6   9   0   2   5   5   1   3   3   9   7   8   7   2   2   5   7   9   8   2   1   3   1   3   0   1   2   3   4   5   6   7   8   9   0   1   2   3   4   5   6   7   8   9   0   1   2   3   4   5   6   7   8   9   1   2   6   5   3   0   7   0   4   1   4   3   6   7   2   3   1   2   1   2   9   6   0   1   3   0   2   7   5   7   6   2   9   1   9   0   6   0   6   0   2   0   6   1   5   8   4   3   0   1   5   4   4   8   5   7   5   7   8   3   4   8   8   5   2   9   7   1   3   8   1   0   7   5   9   6   9   4   7   7   9   9   3   4   4   3   8   6   2   0   1   2   3   4   5   6   7   8   9   0   1   2   3   4   5   6   7   8   9   0   1   2   3   4   5   6   7   8   9   0   8   3   9   5   5   2   6   8   4   9   1   7   1   2   3   5   9   6   9   1   1   1   2   9   5   6   8   1   2   0   7   7   5   8   2   9   8   9   0   4   6   7   1   3   4   5   6   0   3   6   8   7   0   4   2   7   4   7   5   4   3   4   2   8   1   5   1   2   0   2   5   6   4   3   0   0   0   3   3   5   7   0   6   4   8   8   6   3   4   6   9   9   8   2   7   7   1   0   1   2   3   4   5   6   7   8   9   0   1   2   3   4   5   6   7   8   0   1   2   3   4   5   6   7   8   2   1   7   2   5   0   8   0   2   7   8   8   3   6   0   2   7   6   6   1   2   8   8   7   7   4   7   7   3   7   4   5   4   3   3   8   4   1   1   9   7   4   3   7   3   3   0   2   5   5   6   6   3   5   2   5   9   9   8   4   1   0   6   0   9   6   8   8   5   6   1   1   9   8   9   2   3   5   5   9   4   2   1   9   3   9   2   0   6   0   4   0   0   1   2   3   4   7   8   9   0   1   2   3   7   8   9   0   1   2   3   4   7   8   9   7   3   0   3   1   8   7   6   4   0   2   6   8   3   2   8   1   2   0   7   1   0   4   4   5   8   0   6   2   3   1   5   1   8   5   9   4   0   7   5   8   8   3   8   9   2   6   2   5   3   1   7   3   9   1   9   9   6   0   3   9   2   8   1   4   3   5   2   9   2   5   8   9   5   0   1   2   4   5   6   0   1   2   3   4   5   6   7   1   2   3   4   5   1   0   4   5   6   6   3   4   4   2   8   1   0   6   4   9   7   2   3   3   9   2   0   9   3   3   9   1   5   2   3   7   7   8   4   0   2   4   0   2   4   7   8   0   7   0   6   9   3   2   8   6   0   5   7   5   1   0   8   1   6   7   2   9   7   9   5   8   6   2   6   2   8   1   7   5   0   1   1   3   8   4   9   1   8   6   8   9   0   1   2   3   4   5   6   7   8   9   0   1   2   3   4   7   8   9   0   1   7   8   9   9   8   9   8   4   1   7   7   3   3   7   6   6   6   1   9   0   1   7   6   3   2   1   7   1   3   9   1   7   6   8   4   1   4   3   6   9   6   1   4   4   7   2   4   4   0   1   2   3   4   5   6   7   8   9   0   1   2   3   4   5   6   9   0   1   2   3   4   7   8   1   3   5   1   7   7   2   1   4   8   3   4   4   3   9   7   4   1   2   3   5   9   1   6   0   1   0   0   2   8   7   1   1   4   0   4   7   3   6   8   0   3   7   4   0   6   9   2   6   5   8   6   9   0   4   0   6   1   9   2   0   9   5   1   3   7   6   9   3   0   2   2   0   1   2   3   4   5   6   7   8   9   0   1   2   3   4   5   6   7   8   9   0   1   2   3   4   5   6   7   8   9   2   1   7   2   5   0   8   0   2   7   8   8   3   0   6   0   2   7   6   6   1   2   8   8   7   7   4   7   7   3   7   4   5   4   3   3   8   4   5   4   1   1   9   7   4   3   7   3   3   0   2   5   5   6   3   1   5   2   5   9   9   8   4   1   0   6   0   9   6   8   8   5   6   1   1   9   8   9   2   3   5   5   9   4   2   1   9   4   9   1   3   9   2   0   6   0   4   0   6   0   1   2   3   4   5   6   7   8   9   0   1   2   3   4   5   6   7   8   9   0   1   2   3   4   5   6   7   8   9   3   8   0   7   1   0   7   5   5   6   9   0   1   0   0   8   3   4   3   1   5   0   0   9   5   3   4   9   3   7   6   9   2   4   5   7   2   6   4   9   4   9   4   1   2   2   5   8   1   3   2   9   4   3   8   2   2   1   2   8   6   5   1   6   7   2   1   3   9   3   8   7   5   7   0   7   4   8   8   5   0   6   6   3   7   6   9   9   4   8   4   1   0   6   6   0   1   2   3   4   5   6   7   8   9   0   1   2   3   4   5   6   7   8   9   0   1   2   3   4   5   6   7   8   9   7   4   0   4   0   1   7   9   5   1   4   2   8   9   4   3   7   8   2   4   4   3   3   6   9   9   5   8   6   7   0   6   8   2   6   3   9   3   2   8   6   1   7   4   8   8   9   0   3   3   9   0   5   2   9   4   1   0   3   7   5   8   7   7   8   2   9   7   1   2   6   4   2   5   2   3   6   6   5   0   0   2   8   1   6   1   0   4   3   1   6   1   9   0   1   4   5   6   7   8   9   1   2   3   4   5   6   7   0   1   2   3   4   5   6   7   8   9   8   4   0   0   7   2   4   3   8   6   6   3   2   6   3   3   0   1   4   7   8   0   3   1   9   0   1   9   1   2   7   0   1   3   8   2   9   2   7   6   5   5   9   9   8   2   9   1   3   2   3   4   3   1   9   0   9   3   6   8   7   0   1   0   5   8   2   7   7   0   1   2   3   4   5   6   7   8   9   0   1   2   3   4   5   6   7   8   9   0   1   2   3   4   5   6   7   8   9   1   7   4   8   1   5   6   5   7   2   8   6   3   3   8   6   5   4   0   9   1   7   2   9   1   5   1   3   2   2   3   0   6   4   3   7   6   9   0   4   8   1   4   0   6   1   2   6   9   2   2   3   5   5   1   0   7   7   9   6   2   9   4   7   0   2   3   4   0   0   8   8   8   5   1   3   7   4   9   8   8   9   0   9   8   9   0   2   6   5   6   7   4   7   5   4   1   3   5   3   1   2   3   4   5   6   1   2   3   4   6   0   1   2   4   5   6   7   8   1   7   2   4   1   4   1   4   9   6   8   4   5   3   7   8   4   3   3   5   6   7   0   6   1   6   8   7   0   1   5   0   8   5   0   1   5   8   4   2   3   9   7   6   9   1   9   0   6   7   1   2   3   9   2   4   5   5   3   7   5   3   1   8   2   2   3   0   2   9   4   9   7   0   2   7   4   9   9   2   5   9   8   3   8   6   7   0   0   1   2   3   4   5   6   7   8   9   0   1   2   3   4   5   6   7   8   9   0   1   2   3   4   5   6   7   8   9   0   0   7   2   6   5   5   3   7   8   6   6   6   6   4   3   8   8   3   0   1   9   0   5   4   1   9   1   2   7   0   1   3   8   2   9   2   7   4   2   6   5   5   9   9   1   1   5   7   6   8   2   9   4   3   1   9   0   9   3   6   8   7   0   1   0   5   8   2   7   7   0   1   2   3   4   5   6   7   8   9   0   1   2   3   4   5   8   9   0   1   2   3   4   5   6   7   8   9   2   1   2   1   3   9   9   8   5   3   7   0   7   7   5   7   9   9   4   7   0   3   4   1   5   8   1   4   8   4   1   8   6   6   4   6   0   5   5   3   3   5   7   2   5   9   6   9   2   6   2   1   2   0   8   3   8   3   0   8   7   4   9   5   0   9   7   0   0   4   6   0   9   1   6   2   7   6   8   3   5   2   1   8   3   8   6   1   0   2   1   4   0   1   2   3   4   5   6   7   8   9   0   1   2   3   4   5   6   7   8   9   0   1   2   3   4   5   6   7   8   9   7   6   4   7   6   2   3   4   8   7   8   6   9   8   3   2   2   8   4   8   5   6   5   0   2   0   1   1   2   9   6   8   2   1   0   6   5   2   9   7   5   3   9   3   7   1   8   3   8   1   9   5   5   0   1   1   9   8   2   6   0   4   5   0   3   1   8   6   7   5   9   9   3   0   3   1   4   4   0   4   9   0   1   2   3   5   6   7   8   0   1   2   3   5   6   7   8   9   0   1   2   3   5   6   7   8   9   9   7   0   9   0   1   5   8   8   0   9   3   2   7   8   4   6   1   0   4   9   4   2   0   5   0   1   6   9   3   2   9   1   6   0   1   1   8   7   7   6   3   6   0   7   2   4   1   7   0   6   7   1   2   5   8   1   8   2   8   7   6   8   7   1   6   2   9   3   0   1   2   3   4   5   6   7   8   9   0   1   2   3   4   5   6   7   8   9   0   1   2   3   4   5   6   7   8   9   8   9   5   7   0   3   1   6   8   4   1   5   6   4   2   7   8   1   3   4   3   4   7   2   0   5   0   1   9   2   3   2   3   5   5   7   8   4   9   9   7   1   1   9   0   7   8   3   4   8   6   3   8   0   9   6   2   1   0   1   0   6   2   3   8   9   0   7   2   3   4   5   5   2   8   5   4   6   6   6   7   9   1   8   2   1   5   3   4   7   9   4   0   0   0   1   2   3   4   5   6   7   8   9   0   1   2   3   4   5   6   7   8   9   0   1   2   3   4   5   6   9   0   1   3   1   5   1   2   4   9   2   4   6   8   0   1   1   9   2   6   6   8   7   4   2   9   7   0   2   1   0   3   6   0   1   2   3   4   5   6   7   8   9   0   1   2   3   4   5   6   7   8   9   0   1   2   3   4   5   6   7   8   9   8   6   5   9   7   0   2   3   4   3   8   5   1   5   2   3   0   1   2   1   3   2   6   5   3   0   7   2   7   4   6   4   0   5   9   9   8   9   5   3   1   7   4   7   6   5   4   0   0   6   6   2   0   6   3   7   7   4   4   3   9   2   8   9   6   0   9   5   3   8   8   7   1   4   0   4   8   5   2   3   9   0   1   9   1   5   1   7   4   8   6   2   1   6   8   8   0   1   2   3   4   7   8   9   0   1   2   3   4   6   7   8   9   0   1   2   3   4   7   8   9   1   4   5   3   3   0   9   5   4   3   0   8   4   6   7   0   7   7   1   6   9   1   3   6   2   3   8   2   3   8   9   5   8   8   7   1   7   1   1   0   3   4   2   6   4   7   4   2   7   4   2   9   2   7   9   2   1   0   6   5   3   4   8   5   9   6   9   0   6   3   0   8   1   6   0   0   1   2   3   4   5   6   7   0   1   2   3   4   7   8   9   0   1   2   3   4   7   2   5   1   6   4   3   9   9   0   9   7   1   6   4   3   6   2   0   9   8   6   5   7   0   0   1   7   4   3   2   4   1   3   7   6   4   7   7   7   9   8   4   3   8   2   8   3   5   8   0   5   4   7   1   3   1   7   9   6   2   0   9   1   7   3   3   9   1   6   4   3   9   8   2   1   8   6   4   1   5   5   6   5   0   1   2   3   4   5   6   7   8   9   0   1   2   3   4   5   6   7   8   9   0   1   2   3   4   5   6   7   8   9   6   9   7   0   2   3   4   3   8   5   1   3   0   1   2   1   3   2   0   7   2   6   4   0   5   9   9   8   9   5   3   1   7   4   7   0   0   6   6   6   3   7   4   2   8   9   8   7   1   4   0   4   8   5   2   3   9   0   1   9   1   5   1   7   6   1   2   1   6   8   0   1   2   3   4   5   6   7   8   9   0   1   2   3   4   5   6   7   8   0   1   2   3   5   6   7   8   1   0   4   5   6   6   3   4   4   2   8   1   0   6   4   9   7   2   9   2   0   9   3   3   9   1   5   2   3   1   6   7   3   7   8   4   0   2   4   0   2   4   7   8   0   7   0   6   9   3   2   4   8   6   0   5   7   5   1   0   8   1   6   7   2   9   7   9   5   6   5   2   6   2   8   1   7   5   5   7   3   5   0   1   1   3   8   4   9   4   5   1   8   6   8   9   0   1   2   3   4   5   6   7   8   9   0   1   2   3   4   5   6   7   8   9   0   1   2   3   4   5   6   7   8   9   3   5   3   2   9   3   2   1   4   5   5   2   3   2   1   3   9   7   2   1   2   8   9   1   8   8   7   8   1   0   0   6   7   7   8   7   5   0   6   1   5   7   4   6   1   2   5   0   7   9   9   0   3   4   4   8   4   1   8   6   5   9   0   0   0   3   7   1   6   4   6   0   4   5   4   1   3   8   6   3   9   9   5   9   3   7   8   5   6   4   7   6   2   2   0   9   4   0   1   2   3   4   5   6   7   8   9   0   1   2   3   4   5   6   7   8   9   0   1   2   3   4   5   6   7   8   9   6   4   2   6   4   7   5   5   4   7   2   9   3   9   3   8   2   0   9   5   6   0   1   0   6   5   3   5   3   8   0   0   3   4   1   5   3   0   8   3   0   6   2   7   8   1   7   1   3   8   5   4   2   0   9   7   6   7   4   1   6   2   6   7   1   9   8   0   6   9   4   9   9   6   2   3   7   1   9   2   2   5   3   7   8   0   1   2   3   4   7   8   9   0   1   2   3   4   7   8   9   0   1   7   8   9   8   9   2   6   1   3   5   4   8   2   6   4   3   4   5   9   2   0   3   9   4   9   7   3   8   7   4   4   9   8   5   8   2   6   6   2   3   1   3   2   7   3   1   9   0   1   1   3   5   0   7   8   1   5   1   4   6   0   0   4   9   1   6   6   9   0   7   6   1   1   0   1   2   3   4   7   2   3   4   5   6   7   0   1   2   7   8   6   3   9   7   1   9   3   9   6   1   7   2   4   4   5   7   0   0   1   6   6   8   2   7   7   2   4   2   1   6   1   0   6   9   8   3   9   6   3   0   1   2   3   4   5   6   7   8   9   0   1   2   3   4   5   6   7   8   9   0   1   2   3   4   5   6   7   8   9   1   6   8   9   9   0   1   2   4   4   3   7   4   4   4   0   3   8   7   5   8   2   1   7   5   3   8   5   2   5   1   1   6   2   1   3   8   6   4   2   6   2   5   5   0   2   8   0   6   8   1   7   9   1   9   2   6   7   6   6   8   7   4   9   2   1   3   3   0   5   5   8   0   3   7   9   7   0   2   7   9   1   7   8   0   3   5   3   6   0   1   2   3   4   5   6   7   8   9   0   1   2   3   4   5   6   7   8   9   0   1   2   3   4   7   8   9   6   4   2   6   4   7   8   9   2   9   3   9   3   0   0   1   0   4   2   6   3   5   3   0   3   4   1   5   3   0   8   3   0   6   1   7   8   0   9   2   6   7   1   9   6   9   4   9   9   6   7   1   2   5   3   7   8   0   1   2   4   5   6   7   8   9   0   1   3   4   5   6   7   8   0   1   3   4   7   8   9   7   5   5   1   9   9   7   1   0   0   5   9   7   1   7   2   2   3   6   8   3   2   0   0   6   1   7   5   8   6   2   9   4   8   8   7   1   0   8   7   7   5   8   5   3   4   6   1   1   5   5   0   7   2   3   6   4   1   2   4   1   5   4   2   0   4   8   6   1   9   0   2   5   6   9   3   6   3   6   0   1   2   3   4   5   6   7   8   9   0   1   2   3   4   5   6   7   8   9   0   1   2   3   5   6   7   8   1   0   9   5   7   5   1   8   6   9   0   4   1   9   3   8   4   4   7   0   1   9   2   8   7   8   2   5   9   6   0   6   5   5   3   3   3   9   8   1   1   0   6   1   0   0   6   2   1   1   3   2   7   7   8   8   7   8   4   6   0   2   0   7   0   3   6   8   7   1   5   9   9   3   7   2   4   9   4   3   6   2   2   5   3   2   5   5   9   4   1   7   2   0   1   2   3   4   5   6   7   8   9   0   1   2   3   4   5   6   7   8   9   0   1   2   3   4   5   6   7   8   9   1   0   1   2   7   5   3   4   4   0   0   6   9   6   6   5   7   2   3   4   4   9   1   4   0   7   9   5   7   2   3   1   4   4   0   9   9   6   1   8   3   3   7   3   9   8   8   4   7   7   6   2   1   9   8   7   8   8   7   2   2   3   9   3   3   5   5   0   7   9   5   6   5   1   4   1   1   2   8   2   6   1   5   0   1   2   3   4   5   6   7   8   9   0   1   2   3   4   5   6   7   8   9   0   1   2   3   4   5   6   7   8   8   0   6   0   0   2   3   7   9   4   7   1   9   1   7   1   4   0   0   1   7   5   7   1   3   3   3   1   6   9   7   1   3   0   2   6   0   8   9   4   3   5   4   8   1   5   9   0   6   6   3   8   1   4   7   5   2   0   0   1   7   8   9   6   8   8   2   3   6   1   2   9   5   2   0   1   2   3   4   5   6   7   8   9   0   1   2   3   4   5   6   7   8   9   0   1   2   3   4   5   6   7   8   9   7   4   6   1   4   0   9   9   3   7   8   4   7   5   8   5   3   2   2   0   5   8   6   0   3   8   1   0   3   0   4   7   4   9   2   9   5   7   1   7   1   6   6   5   6   2   8   7   6   4   9   9   5   3   7   4   3   0   4   6   6   1   1   3   2   1   0   0   1   2   3   4   7   8   9   0   1   2   3   4   5   6   7   8   0   1   2   3   4   7   8   9   0   8   3   9   5   5   2   6   8   4   1   7   1   2   3   5   6   9   1   1   1   2   1   2   0   7   7   5   8   2   9   8   6   7   3   4   6   8   7   0   4   2   7   7   5   4   3   4   2   8   1   5   1   0   2   3   3   5   7   0   6   8   6   3   9   9   8   2   7   7   1   0   1   7   8   9   0   1   2   3   4   5   6   7   8   0   1   2   3   4   7   8   9   7   8   6   4   1   9   3   8   4   4   7   0   1   9   2   8   7   8   2   6   0   6   5   3   3   3   9   1   4   0   6   1   0   0   6   2   1   1   7   7   8   4   6   0   7   0   3   6   8   7   1   5   2   4   9   4   3   6   4   1   7   2   6   5   0   1   2   3   4   5   6   7   8   9   0   1   2   3   4   5   6\n",
      "tensor([[-0.0571,  0.0209,  0.1130,  ...,  0.0973,  0.0711, -0.0047],\n",
      "        [-0.0511,  0.0250,  0.1112,  ...,  0.1036,  0.0713, -0.0045],\n",
      "        [-0.0577,  0.0206,  0.1197,  ...,  0.1011,  0.0736,  0.0018],\n",
      "        ...,\n",
      "        [-0.0666,  0.0267,  0.1133,  ...,  0.1026,  0.0661, -0.0030],\n",
      "        [-0.0637,  0.0277,  0.1141,  ...,  0.1020,  0.0682, -0.0061],\n",
      "        [-0.0718,  0.0306,  0.1117,  ...,  0.1060,  0.0853, -0.0049]],\n",
      "       grad_fn=<AddmmBackward>)\n"
     ]
    },
    {
     "name": "stdout",
     "output_type": "stream",
     "text": [
      "Prediction\n",
      "    4   4   2   4   4   4   4   4   4   4   2   2   4   4   2   2   4   4   2   4   4   4   4   2   4   4   4   4   2   2   2   4   2   4   4   4   4   2   4   2   2   4   4   4   2   2   4   4   4   2   2   4   2   4   4   2   4   2   4   4   4   4   4   4   4   4   4   4   2   4   4   7   2   2   2   4   2   4   2   4   4   4   2   4   4   4   4   2   4   2   2   4   2   4   2   4   4   4   4   4   4   4   4   4   4   4   2   2   4   4   2   4   2   4   4   4   4   4   4   4   2   2   4   4   4   4   4   4   4   4   4   2   4   4   4   2   4   2   4   4   2   2   4   2   4   4   4   4   4   4   4   2   4   2   2   4   4   4   4   4   4   4   4   2   4   4   4   2   2   4   4   2   2   2   4   2   2   2   2   4   2   2   4   2   2   4   4   2   4   2   2   4   4   4   4   2   2   2   4   2   7   4   4   2   2   2   4   2   2   4   4   4   4   4   4   4   2   4   2   2   4   4   4   4   2   2   4   4   2   4   2   4   4   4   4   4   4   4   4   2   2   2   2   4   2   4   2   4   4   4   4   2   4   2   4   4   4   2   4   4   2   2   4   4   4   2   4   2   2   4   2   4   2   4   4   4   2   4   2   2   4   4   4   2   4   4   4   2   2   4   4   2   4   4   4   4   4   2   2   2   2   4   2   4   4   2   4   4   4   2   2   4   4   7   2   4   4   4   2   7   2   4   4   4   4   2   4   4   4   2   2   4   2   4   2   2   4   4   4   4   2   4   2   2   4   2   4   4   2   4   4   2   4   4   4   2   2   2   2   4   4   4   2   2   4   4   2   2   2   2   4   4   4   7   4   4   4   2   2   4   7   4   2   4   4   2   4   4   2   4   4   4   4   2   4   2   4   2   2   4   2   4   2   4   2   4   4   4   2   2   4   4   2   4   4   4   2   4   2   2   4   2   4   4   2   4   4   2   2   2   2   4   2   4   4   4   2   4   4   2   4   4   2   4   4   2   4   2   4   4   4   2   4   4   4   2   4   2   4   4   4   4   4   4   4   4   2   2   2   4   4   4   4   2   4   4   2   2   4   2   2   4   4   2   4   2   4   4   4   2   2   2   4   2   4   4   4   4   4   2   2   4   2   4   2   2   2   2   4   2   4   2   4   4   4   4   2   4   7   4   2   4   4   2   2   2   2   2   4   2   4   2   4   2   2   4   2   2   2   2   4   4   4   4   4   2   4   2   2   2   2   2   4   2   4   4   2   4   4   4   4   4   4   2   4   4   4   4   4   4   2   4   2   2   2   4   4   4   4   4   4   4   4   2   4   4   2   4   2   2   2   2   2   4   2   2   4   4   4   4   4   2   2   4   4   2   2   4   2   2   4   4   4   2   4   4   4   4   4   4   2   4   2   4   4   7   4   4   4   4   4   4   4   4   4   4   4   2   4   4   4   4   4   4   2   2   2   4   2   4   4   4   4   2   4   4   7   7   4   4   4   4   4   2   2   4   4   2   4   4   4   4   2   4   2   2   4   4   4   4   4   4   2   2   4   2   2   4   4   4   2   2   4   4   2   2   2   4   4   2   2   4   4   4   2   4   4   4   4   4   4   4   4   4   4   2   2   4   4   4   7   2   4   4   4   2   4   4   4   2   4   4   4   4   4   2   4   4   4   2   4   4   2   4   2   2   4   4   4   2   4   2   4   4   2   2   4   4   4   4   4   2   4   4   2   4   2   4   2   2   4   4   2   4   4   4   4   2   2   2   2   4   2   2   4   2   4   2   4   4   2   4   4   4   2   2   2   2   2   4   4   2   4   4   4   4   4   2   2   2   4   4   2   4   4   2   4   4   2   2   4   2   4   4   2   4   2   4   2   2   2   2   4   4   4   2   4   4   4   2   2   4   2   4   2   2   4   4   2   2   2   4   4   4   2   2   4   2   2   4   4   4   4   4   4   4   2   4   2   4   4   4   2   2   2   2   4   4   2   4   4   4   2   2   4   2   4   2   2   2   2   4   4   4   4   4   4   2   4   4   2   2   4   4   4   4   4   4   2   4   4   4   2   4   2   2   4   4   2   4   2   2   2   4   2   2   4   2   4   2   2   2   2   2   2   4   2   4   2   4   2   4   4   4   4   2   4   4   2   2   2   4   4   4   4   2   4   4   2   2   2   4   4   2   4   2   4   2   4   4   2   2   2   4   4   4   4   2   2   2   4   2   4   2   2   2   4   4   4   4   4   4   4   4   4   4   4   4   4   4   4   4   2   2   4   4   4   4   2   4   4   2   4   4   4   4   4   4   4   2   2   4   4   4   2   2   2   2   7   4   2   4   4   4   2   4   4   2   2   2   2   4   2   2   4   4   4   4   4   4   2   4   2   2   2   4   4   4   4   4   4   2   4   4   4   2   4   4   2   2   7   4   4   4   4   2   2   4   4   2   4   2   2   2   7   4   4   2   4   4   2   4   2   4   4   2   4   2   2   4   4   7   2   2   4   4   4   4   2   2   4   4   4   2   4   4   4   4   2   4   2   2   4   4   4   4   4   4   4   2   4   4   2   4   2   2   2   2   4   2   4   4   2   2   2   2   2   4   4   2   2   2   4   4   4   4   4   4   4   2   2   4   4   4   4   4   2   4   2   2   4   4   2   2   4   4   2   4   4   2   2   2   2   4   4   7   4   4   4   2   2   4   4   2   4   4   4   4   2   4   4   2   4   4   4   2   2   4   4   2   2   2   2   4   2   4   4   4   4   4   2   4   4   4   4   2   4   4   4   2   4   4   4   4   2   2   2   4   2   2   2   4   4   4   4   4   4   4   2   4   2   4   4   4   2   4   4   2   4   2   2   4   4   4   4   4   4   4   4   2   4   2   2   4   4   4   4   4   2   2   2   2   4   2   2   2   4   2   4   2   2   7   4   4   4   2   4   2   2   4   4   4   4   2   4   2   4   4   4   4   2   4   4   4   4   2   2   4   2   4   4   4   4   4   2   4   2   4   4   2   4   4   4   4   2   4   4   2   2   2   4   4   2   4   4   4   4   4   2   4   2   2   2   4   4   2   4   4   2   4   4   4   4   4   2   4   4   4   2   4   4   4   4   4   4   4   4   4   2   4   4   2   2   2   4   4   4   4   4   4   4   4   2   2   2   2   4   2   4   4   2   4   4   4   2   4   4   2   4   4   4   4   4   4   4   2   4   4   4   4   4   4   4   4   2   4   2   4   4   4   2   2   4   4   2   4   2   2   4   4   2   4   2   4   4   4   2   2   2   4   4   4   4   4   4   4   4   4   4   4   4   4   4   2   2   2   4   4   2   2   4   4   2   4   2   4   2   4   2   4   4   4   4   2   2   4   4   2   4   2   2   4   4   4   4   4   4   4   4   4   2   4   4   2   4   4   2   4   4   2   2   2   4   2   4   2   4   2   4   2   2   2   4   2   4   2   4   4   2   4   4   2   2   2   4   4   4   2   4   2   4   2   4   4   4   4   4   4   2   4   2   4   4   4   4   2   4   4   2   4   2   4   4   4   4   4   4   2   4   4   2   4   4   4   2   4   4   4   4   2   2   2   2   4   2   2   4   2   2   2   2   4   4   2   4   4   4   4   4   4   2   4   4   2   2   2   4   4   2   4   4   2   2   4   4   7   4   2   4   4   2   4   4   4   4   4   2   4   2   4   2   4   4   2   2   2   4   2   4   4   2   4   2   2   4   4   2   4   4   4   2   2   4   7   4   4   4   2   4   2   2   2   4   4   4   4   4   4   4   4   4   2   4   4   2   4   4   4   4   2   4   4   2   2   2   4   2   2   2   4   2   4   2   4   4   2   4   4   2   4   4   4   4   4   2   4   4   2   2   2   4   2   2   4   4   2   4   4   4   4   4   4   4   4   4   2   2   4   2   2   2   2   4   2   4   4   2   4   2   4   2   2   2   4   4   4   2   2   4   4   2   4   2   2   4   2   2   4   2   4   4   4   4   4   4   2   2   4   2   4   2   4   4   2   2   4   4   2   2   4   2   4   2   4   4   4   2   4   4   2   4   2   4   4   2   2   2   2   2   4   4   4   2   2   2   4   4   4   4   4   4   2   4   4   2   2   4   2   4   2   2   4   2   4   2   4   2   4   2   2   2   2   2   2   2   2   2   2   4   4   2   4   2   4   2   2   4   4   4   4   4   4   2   4   4   4   2   4   4   4   2   4   2   4   4   4   2   2   4   4   7   2   4   4   2   4   2   2   2   4   4   4   4   4   2   4   4   4   2   2   4   4   7   4   4   4   7   2   2   2   2   4   2   4   4   2   4   2   2   2   2   4   2   4   4   2   4   4   2   4   4   4   2   2   4   4   2   2   2   4   4   2   4   4   2   4   4   2   4   2   4   2   2   2   4   2   4   4   4   4   4   4   4   2   2   2   4   2   4   4   4   2   2   4   4   4   4   4   2   4   2   4   2   2   4   2   2   4   2   4   4   2   2   4   4   4   2   4   4   4   4   2   4   4   2   4   4   2   4   4   4   4   4   4   4   4   2   2   2   4   2   4   4   4   4   2   2   4   4   4   2   4   2   2   4   2   4   2   4   2   4   2   2   4   2   2   4   4   4   4   4   2   4   2   4   2   4   4   4   4   4   2   4   4   4   2   4   4   4   4   4   4   4   2   4   4   4   4   4   2   4   4   2   4   4   2   2   2   4   2   4   4   4   2   4   4   4   4   4   4   4   4   4   4   4   4   7   4   2   2   2   2   2   4   4   2   2   7   2   4   2   4   4   2   2   4   4   4   4   2   2   2   4   2   4   2   4   2   2   7   4   4   4   4   4   2   4   2   4   2   4   4   4   4   4   4   4   4   4   2   4   2   2   2   2   2   4   4   4   4   4   4   2   4   2   4   4   4   2   4   4   2   4   4   2   2   4   4   2   4   2   4   4   4   4   2   2   4   4   2   2   4   4   2   4   4   4   2   4   4   4   4   4   4   4   4   4   4   4   4   4   4   4   4   4   4   4   4   4   4   4   2   2   4   4   2   4   4   2   4   2   4   4   2   4   4   2   4   4   2   4   4   4   4   4   2   4   2   2   2   4   4   4   4   2   4   2   4   4   4   4   2   4   4   4   4   4   4   4   2   4   4   7   4   4   4   4   2   2   2   2   2   4   2   2   4   4   2   2   4   4   2   4   7   2   2   4   4   2   4   4   4   2   2   4   2   4   4   4   4   4   4   2   4   2   2   2   4   4   4   4   4   2   4   2   4   4   2   2   2   4   4   4   4   4   4   4   4   2   4   4   4   4   2   4   4   4   4   4   4   2   2   4   2   4   2   2   2   2   2   4   4   2   4   2   2   4   2   4   4   2   4   4   4   4   4   2   2   4   2   4   4   2   4   4   4   4   4   2   4   4   2   2   2   4   4   4   4   2   4   4   4   4   4   4   4   2   4   4   4   4   2   4   2   4   4   2   2   2   2   4   4   4   2   2   2   4   4   2   2   4   2   4   4   2   2   4   4   4   2   4   2   4   4   2   4   4   4   4   2   2   2   7   4   4   2   4   4   4   4   4   4   4   4   4   4   4   4   4   4   7   4   4   2   2   4   2   4   4   2   4   4   4   4   4   2   4   2   4   4   2   4   4   4   4   2   4   4   2   4   4   2   2   2   4   4   4   4   4   4   4   2   4   4   4   2   4   2   2   2   2   4   2   4   2   2   2   4   4   2   4   2   2   2   2   4   4   2   4   4   7   2   4   4   4   2   4   4   4   4   2   2   4   2   4   2   4   4   4   2   2   4   2   4   2   4   4   4   4   4   4   4   2   2   4   4   2   4   4   4   2   4   4   2   4   4   2   4   4   4   2   4   2   2   2   4   2   2   4   2   4   4   4   4   2   4   2   2   4   4   4   2   2   2   4   2   4   2   2   2   4   2   4   2   4   4   2   2   4   2   2   4   4   4   2   4   4   4   2   2   4   4   4   2   4   2   4   2   2   4   2   2   2   4   2   4   4   2   4   2   4   2   2   4   2   4   4   4   4   4   2   2   4   4   2   4   2   2   4   2   4   4   4   4   4   4   4   4   2   2   4   4   4   2   4   4   4   4   4   4   4   4   4   7   2   4   2   2   2   4   4   4   2   2   2   4   4   2   4   2   4   2   4   2   2   2   2   2   4   4   2   2   4   4   2   4   2   4   4   4   4   2   4   4   2   4   2   4   4   4   4   4   4   4   4   4   2   2   4   4   2   4   4   4   2   2   4   4   4   4   4   4   2   2   2   2   4   2   4   2   2   4   2   2   4   2   2   4   2   4   4   2   4   2   4   4   4   4   2   2   4   4   2   2   4   4   4   2   4   4   7   4   4   2   2   4   2   4   4   4   4   4   2   4   4   2   4   2   4   2   4   4   2   4   4   4   2   4   2   2   2   4   2   2   4   4   4   4   2   4   2   4   4   4   2   2   4   4   4   4   4   4   4   4   2   2   4   2   2   2   4   2   4   2   4   4   4   4   2   2   2   2   4   4   2   2   4   4   4   4   4   4   4   2   4   4   4   2   4   4   4   4   4   2   2   2   2   4   4   4   2   2   2   2   4   4   4   4   2   4   4   2   4   4   2   2   4   4   2   4   4   4   2   4   4   4   4   4   2   4   4   4   4   2   2   4   4   2   2   4   2   4   2   4   4   2   4   4   4   4   4   4   4   2   4   2   4   4   4   2   4   4   4   4   2   2   4   2   2   4   4   2   2   4   2   2   2   4   4   4   4   2   2   4   2   4   7   2   4   4   2   4   4   4   4   2   4   2   4   2   4   2   2   4   2   2   4   4   4   4   2   4   4   4   4   4   4   2   4   4   4   4   2   4   4   4   4   2   4   4   4   4   4   2   4   4   2   4   4   2   2   4   4   4   4   4   4   4   4   4   2   2   2   2   2   4   4   4   4   4   2   4   4   4   2   4   4   2   2   4   4   2   4   2   4   4   4   4   2   4   4   4   2   4   2   4   2   2   4   4   2   4   2   4   2   2   2   4   4   4   2   2   4   4   4   2   2   4   4   2   2   4   4   4   4   4   2   2   4   4   2   2   4   4   4   4   4   4   2   2   2   2   2   4   4   4   4   4   2   4   4   4   2   4   4   4   4   4   4   2   2   4   4   2   2   4   2   4   4   4   2   2   4   2   4   4   4   2   4   7   4   4   4   2   4   4   4   4   2   2   4   2   4   2   2   4   2   2   4   4   4   2   4   2   4   2   2   4   4   4   4   2   4   4   4   4   4   2   4   4   4   2   2   4   4   2   4   2   4   4   2   2   4   4   4   4   4   2   2   4   4   4   2   2   2   2   4   4   2   4   4   4   4   2   4   2   4   2   4   4   4   4   4   4   2   4   4   4   2   4   4   2   4   4   4   2   2   4   2   4   4   2   4   2   4   4   4   4   4   4   4   4   4   4   4   2   4   2   4   2   2   2   2   4   2   4   2   4   4   4   4   4   2   4   2   4   4   4   2   4   2   4   4   2   4   4   2   4   4   2   2   2   4   4   4   4   4   2   4   2   4   4   4   2   4   2   4   4   4   4   4   4   4   2   2   4   4   4   4   4   4   2   4   2   4   2   4   2   4   4   4   2   2   4   4   4   4   4   4   2   2   4   2   4   2   4   2   4   4   4   2   4   4   2   2   4   2   4   2   4   4   2   2   4   4   2   4   2   7   4   4   4   2   4   2   2   4   4   4   2   4   2   4   4   2   4   4   2   2   4   2   4   2   2   2   2   4   4   2   4   4   4   2   2   4   7   2   4   2   2   4   2   4   4   2   2   2   2   4   4   2   4   4   4   2   4   4   2   4   4   4   4   4   2   4   2   4   2   4   4   2   4   2   4   2   4   2   2   4   4   2   4   4   2   4   4   4   4   4   4   2   4   4   4   4   4   2   4   4   2   4   4   2   2   2   2   4   2   2   4   4   4   4   4   4   4   4   2   2   4   4   2   2   4   2   4   4   2   4   4   4   4   4   4   4   4   2   4   2   2   4   4   2   4   2   2   2   2   4   2   4   4   2   4   2   2   4   2   2   2   4   4   4   2   4   2   2   2   4   4   4   2   4   2   2   4   2   4   2   4   4   2   2   2   4   2   4   2   4   4   7   2   4   4   4   2   2   4   4   4   4   4   4   2   4   4   4   2   4   4   2   4   4   4   4   2   4   2   2   2   7   4   4   4   2   2   4   4   2   2   4   2   2   4   2   4   2   4   4   2   2   2   2   4   2   4   4   4   4   4   4   4   2   4   4   4   4   4   2   2   2   4   4   2   4   4   2   4   4   2   4   2   4   4   4   4   4   4   4   2   4   2   4   4   4   4   4   4   2   2   4   4   4   4   4   4   2   2   4   4   2   4   4   4   4   4   4   2   4   4   4   4   4   4   4   4   4   2   4   4   4   2   2   2   2   2   4   4   2   2   2   2   4   4   4   2   4   2   4   4   4   2   4   2   4   4   4   4   4   4   4   2   4   4   4   2   2   4   4   4   4   4   2   2   4   2   4   2   4   4   4   4   4   4   2   4   2   2   4   2   2   4   4   4   4   4   4   4   4   4   4   4   2   4   2   4   4   4   4   2   2   4   4   4   2   2   4   4   4   4   4   4   4   4   4   2   2   2   2   2   4   4   2   2   4   4   4   4   4   2   4   4   4   2   4   4   2   4   2   7   4   2   4   2   4   2   4   4   4   4   2   4   4   4   4   4   4   4   2   4   2   2   4   4   4   2   2   2   4   4   4   4   4   4   2   4   4   4   4   4   4   4   4   2   2   4   4   4   4   4   4   4   2   4   2   4   7   4   4   4   2   4   2   4   2   4   4   2   2   2   4   2   2   4   4   4   4   4   2   2   2   2   2   4   4   4   4   2   4   4   4   4   4   4   4   4   2   2   4   2   4   4   2   2   4   4   4   2   4   4   4   2   2   2   2   7   4   4   2   4   4   4   4   4   2   2   4   2   2   4   4   4   4   4   4   4   4   4   2   4   2   4   4   4   4   2   4   4   4   4   2   4   2   2   7   2   2   4   4   4   2   4   4   2   2   4   4   2   4   4   4   2   2   4   4   2   2   4   4   4   4   2   2   2   2   2   4   4   4   2   4   4   4   4   2   4   4   4   2   4   2   4   2   4   4   2   4   2   4   4   4   2   4   4   4   4   2   4   2   2   2   4   4   4   2   2   4   4   2   4   4   4   7   4   2   2   2   2   4   4   2   4   4   4   4   4   4   4   4   4   2   4   4   4   4   2   2   4   2   2   2   4   4   4   2   2   4   2   4   4   2   2   4   4   4   4   2   4   2   4   4   2   2   4   4   4   4   4   2   4   4   4   4   4   2   2   4   2   4   2   4   4   2   2   4   2   4   4   4   2   4   4   4   4   2   4   2   2   2   2   2   2   4   4   4   4   4   4   2   2   2   2   4   4   4   4   4   4   4   2   2   2   2   4   4   4   2   4   4   4   4   4   4   4   4   2   2   4   4   2   4   4   4   4   4   4   2   4   4   4   7   4   2   4   4   4   2   4   4   2   2   2   2   4   2   4   7   4   4   2   4   4   2   2   2   4   4   4   4   2   4   4   2   2   2   4   2   4   4   4   4   4   2   2   2   4   4   2   4   4   2   2   4   2   4   4   2   2   4   4   4   4   4   4   2   2   2   4   2   2   4   2   2   4   4   4   2   2   2   4   4   4   2   2   2   4   2   4   2   4   4   2   2   4   2   4   4   4   2   4   2   4   4   2   4   4   4   2   2   2   2   4   4   4   2   2   4   2   4   4   2   4   2   4   4   4   4   2   2   2   4   4   2   4   4   4   2   4   4   4   2   4   4   7   4   4   2   4   4   2   2   2   4   4   4   2   4   4   4   4   2   2   4   4   4   2   2   4   4   4   2   4   2   2   4   4   4   2   4   4   2   4   4   4   4   4   4   4   4   2   4   4   4   2   4   4   4   4   2   4   2   4   2   2   4   4   4   4   2   2   2   4   2   4   2   4   4   2   4   4   2   4   4   2   4   4   4   4   4   4   2   4   4   4   2   2   4   4   2   4   4   4   4   2   2   4   2   2   2   4   4   4   4   4   4   2   4   2   4   4   4   2   2   4   4   4   4   4   4   4   4   2   4   4   2   2   4   4   2   4   4   2   4   2   4   4   2   2   4   4   2   4   2   4   2   4   2   2   4   4   4   4   4   4   2   2   2   2   2   4   2   4   2   2   4   4   2   2   4   4   4   4   2   2   4   4   2   4   2   4   4   4   4   4   2   4   4   2   4   2   4   2   2   4   2   2   4   4   2   2   2   7   2   2   2   4   2   2   4   2   2   2   4   4   4   4   2   4   2   2   4   4   4   4   2   2   7   4   4   2   2   2   2   4   4   4   4   2   2   4   4   4   4   2   4   4   4   4   2   2   4   2   4   4   4   4   2   4   4   4   2   4   4   4   4   2   4   4   2   4   4   4   4   4   4   4   2   2   4   2   4   2   4   4   4   2   4   4   4   4   4   4   4   4   2   4   2   4   2   4   2   2   2   4   2   4   2   4   4   4   4   4   4   4   2   2   4   2   7   2   4   2   4   4   4   4   2   4   4   2   4   4   4   2   2   2   4   4   2   2   2   4   4   2   2   4   2   2   2   2   4   2   4   4   2   4   4   4   4   2   4   4   4   2   2   4   4   2   2   2   4   4   4   4   4   4   4   2   4   2   4   4   4   4   2   4   2   2   2   2   4   2   2   2   2   4   2   4   4   4   2   4   4   4   2   4   4   4   4   4   4   4   4   4   4   4   4   2   4   4   4   4   4   2   4   4   4   4   4   4   4   4   2   4   7   4   2   2   4   4   4   4   2   2   2   4   4   4   2   2   2   4   2   2   2   2   2   4   2   2   4   4   2   4   4   4   2   2   4   4   4   4   4   4   2   4   4   4   2   4   4   4   4   2   4   4   4   2   2   2   4   4   4   4   2   4   2   2   2   2   4   2   2   4   4   4   2   2   2   2   4   2   7   4   4   2   2   4   2   2   4   2   2   2   2   4   4   4   2   2   4   4   2   2   4   2   4   2   4   2   4   4   4   4   2   4   4   2   4   4   2   2   4   2   2   2   4   2   4   4   2   2   4   4   4   4   4   2   4   4   2   2   2   2   4   2   4   4   4   2   2   2   2   2   4   4   4   2   2   4   4   4   2   2   4   4   4   2   4   4   4   2   2   2   4   4   4   2   4   7   4   2   4   4   2   4   4   4   4   4   4   4   4   4   4   2   2   2   4   7   2   4   4   4   4   2   2   4   4   4   2   4   4   2   4   4   2   4   2   2   4   4   4   2   4   2   2   2   4   4   4   4   2   4   2   4   2   4   2   4   2   4   4   4   2   4   4   2   2   2   4   4   4   4   2   4   2   2   4   2   4   4   2   2   2   2   4   4   2   4   4   4   2   4   2   2   2   4   4   2   4   2   4   2   2   4   4   2   4   4   4   2   2   2   2   4   2   4   2   4   4   2   2   4   2   4   4   2   2   2   2   2   2   2   4   4   2   4   2   2   4   2   4   4   4   4   2   4   2   7   4   2   4   2   2   4   4   4   4   2   4   2   4   2   4   4   2   2   2   2   2   2   7   4   4   4   2   4   2   4   4   4   4   4   2   4   2   2   2   4   4   4   4   4   4   4   2   4   4   4   4   2   4   4   4   2   2   2   4   2   4   4   2   4   4   2   4   4   4   4   4   4   4   2   4   4   2   4   2   4   4   2   2   4   2   2   2   4   4   2   4   4   4   2   2   2   4   2   4   4   4   4   2   4   4   4   4   2   4   4   4   2   4   4   4   2   2   2   2   2   4   4   2   4   2   4   4   2   2   2   2   4   4   4   4   4   4   2   4   2   4   2   2   2   4   7   4   4   4   4   4   4   2   2   4   7   4   4   4   4   4   2   4   2   4   7   2   4   2   4   2   4   2   4   2   4   2   4   2   2   4   4   2   4   2   4   4   4   2   2   4   4   4   2   4   4   4   2   2   2   2   2   2   4   4   4   2   4   4   2   2   2   4   2   4   4   2   2   4   2   4   2   4   4   4   4   2   2   2   4   2   4   4   4   2   4   2   4   4   4   2   4   4   4   4   4   2   4   4   2   2   2   7   4   2   2   4   2   4   2   4   4   2   4   2   4   4   2   2   4   2   2   4   2   4   4   4   4   4   4   2   4   4   4   4   4   2   4   2   2   4   4   4   4   4   4   2   2   2   4   4   4   2   4   4   4   2   4   4   4   2   4   2   4   2   4   2   4   2   2   4   4   4   2   2   4   4   2   4   4   4   2   4   2   4   4   4   4   2   4   4   4   2   2   4   2   4   2   2   2   4   4   4   2   4   4   4   4   7   4   2   4   2   4   2   4   4   4   4   2   4   4   4   4   2   4   2   4   2   4   2   4   4   4   4   4   2   4   4   4   2   4   2   4   2   4   4   4   7   2   4   2   4   4   2   2   4   4   2   4   4   2   4   4   2   4   4   4   4   4   2   4   2   2   4   2   4   2   7   4   4   4   2   4   2   4   2   4   4   7   2   4   7   2   7   4   4   4   4   2   4   4   4   4   4   2   4   4   2   4   2   2   4   2   2   4   2   4   4   2   4   2   4   4   2   4   2   2   4   4   4   2   4   4   2   4   7   4   2   4   4   4   4   4   4   2   4   4   2   4   4   2   2   2   2   7   4   2   2   4   4   2   2   2   4   4   2   4   2   4   4   2   4   4   4   4   4   4   4   4   4   2   2   4   4   2   2   7   4   2   4   4   4   2   2   4   2   2   4   2   4   4   7   4   4   4   4   4   4   2   4   2   2   2   4   4   4   4   2   2   4   4   4   4   4   4   2   4   2   4   4   4   4   4   4   2   4   2   7   4   2   2   2   4   2   4   2   4   4   2   4   2   2   2   4   4   4   4   2   2   2   4   2   4   2   2   2   2   4   4   4   4   4   2   4   4   2   4   4   2   2   2   2   4   2   7   2   2   4   2   4   2   4   4   4   2   2   4   2   2   2   4   4   2   4   4   2   2   4   4   4   4   4   4   2   4   2   4   4   2   4   4   2   4   2   4   2   4   4   2   4   4   4   4   4   2   4   4   4   4   4   2   4   2   4   4   4   4   4   4   4   2   4   2   2   4   4   4   4   2   4   4   4   2   4   4   2   4   2   4   2   4   2   4   4   4   4   2   4   2   2   4   2   2   4   4   4   2   4   4   4   4   2   2   2   4   4   4   2   4   2   4   2   4   2   2   2   4   4   2   4   4   2   2   4   4   2   4   4   4   4   4   2   4   4   2   4   2   4   4   2   4   2   2   4   2   4   2   4   4   2   4   4   4   4   2   4   4   2   4   2   4   4   4   4   2   4   2   4   4   4   4   4   4   4   4   4   2   4   2   2   4   4   4   4   4   4   2   4   4   4   4   4   4   2   4   2   4   4   4   4   4   2   2   4   2   4   4   4   4   4   2   2   4   4   2   4   4   4   4   4   2   4   4   4   2   4   2   4   4   4   2   2   4   4   4   4   2   4   2   4   4   4   4   4   4   4   4   4   4   2   4   4   2   4   4   2   4   2   2   7   2   4   2   4   4   4   2   4   4   4   2   2   7   4   2   4   4   4   4   4   4   4   4   4   4   4   4   2   4   4   2   4   2   4   4   4   4   4   4   2   4   7   2   4   7   4   4   4   4   7   4   4   2   2   4   4   4   4   4   2   4   2   2   4   4   4   4   4   4   4   2   4   7   4   4   4   4   2   4   2   4   4   4   4   2   4   4   4   4   4   4   4   2   4   2   4   4   7   7   7   4   4   4   4   2   2   2   4   4   4   2   4   4   4   4   4   4   4   4   4   2   4   7   4   2   2   4   4   2   4   7   2   4   4   4   4   4   2   4   4   4   4   4   7   4   4   4   4   2   4   4   2   2   4   4   4   4   4   4   4   4   2   2   2   4   2   4   4   4   4   2   2   2   2   4   2   4   4   4   4   4   4   2   4   2   7   2   4   4   4   4   2   4   2   2   2   2   4   4   4   2   4   2   2   4   4   4   4   2   4   4   4   4   4   2   4   4   4   4   4   4   4   4   4   2   4   2   4   4   2   4   4   4   4   4   4   4   4   4   4   4   2   4   2   4   2   7   2   4   4   2   4   4   4   2   4   4   4   7   2   7   4   2   4   4   4   4   2   2   4   4   4   4   2   4   4   4   2   4   2   4   4   4   2   4   4   2   4   2   4   4   2   4   4   4   4   2   4   2   4   2   4   4   4   4   2   4   2   4   2   4   4   2   4   4   4   4   7   4   4   2   4   4   4   4   2   7   4   2   4   4   4   4   4   2   4   2   4   4   4   4   2   4   2   2   4   4   4   4   4   4   2   4   2   4   4   4   4   4   4   4   4   4   4   2   4   2   4   4   4   4   4   4   2   2   4   2   2   2   4   4   2   2   4   4   4   2   4   2   4   2   4   2   2   4   2   4   2   4   2   2   4   4   4   2   4   4   2   2   2   4   2   4   2   4   4   2   2   4   2   4   4   4   4   2   4   2   2   4   4   2   4   4   2   2   4   2   2   4   4   2   2   4   2   4   2   2   2   4   4   2   2   4   4   2   7   4   2   4   4   4   4   4   2   4   2   4   4   4   4   2   4   4   2   4   2   4   4   4   2   2   4   7   4   2   2   2   4   4   4   4   4   2   4   2   4   2   4   4   4   4   4   2   4   4   2   4   2   4   2   4   2   2   2   2   4   4   2   4   4   2   4   2   4   4   4   2   4   4   2   2   4   4   4   2   4   4   2   4   2   4   2   2   4   2   2   2   2   2   4   4   2   4   4   4   4   2   2   4   4   4   4   2   4   4   2   4   4   2   4   2   2   4   2   4   4   2   4   2   2   2   4   4   4   4   2   2   2   4   2   4   4   2   2   4   4   2   2   4   4   2   4   2   4   2   2   4   4   2   4   4   2   2   4   4   2   2   4   2   2   4   4   4   4   4   2   2   4   2   4   4   2   2   4   4   4   2   2   2   2   4   4   4   4   2   2   4   2   4   2   2   4   2   4   4   2   4   2   4   4   2   2   4   2   4   4   4   4   2   4   4   2   2   2   2   4   4   2   2   4   4   4   4   2   2   2   4   4   4   4   4   4   4   4   2   2   2   4   2   2   4   4   2   4   2   2   4   4   4   4   2   4   2   4   2   2   4   4   4   4   2   4   2   4   2   2   2   2   4   2   2   4   4   4   4   4   2   4   2   2   4   4   4   4   4   2   2   2   4   2   4   2   4   4   4   4   2   2   2   4   2   4   2   4   4   4   4   4   4   2   2   4   4   4   4   4   4   4   2   4   2   4   4   4   4   4   4   4   2   4   2   4   2   4   4   2   4   4   2   4   4   2   2   4   2   2   4   4   2   2   4   4   4   2   4   4   4   2   2   4   4   4   4   4   4   4   2   4   4   2   4   2   2   4   4   4   2   2   2   2   4   4   2   4   4   2   4   2   4   2   4   2   2   4   2   2   4   4   2   4   2   4   4   4   4   4   4   4   4   2   2   2   4   4   4   4   2   7   4   4   4   4   2   4   4   4   2   2   4   4   2   4   4   4   4   2   4   2   4   2   4   2   4   4   4   4   2   2   2   2   4   2   4   4   4   4   4   2   4   2   2   4   4   4   2   4   2   4   4   4   4   4   4   2   2   4   2   4   4   4   4   4   2   4   4   2   2   4   4   4   2   2   2   4   2   4   4   4   2   4   2   4   4   2   4   4   2   2   2   2   2   4   2   4   2   2   2   4   4   4   4   2   4   2   2   4   4   2   2   2   4   2   4   2   4   2   4   4   4   2   2   4   2   4   4   2   2   4   4   2   4   4   4   4   2   2   4   2   4   4   4   4   2   4   4   4   4   4   4   4   4   4   2   4   4   4   2   4   4   2   4   4   2   4   4   2   2   4   4   2   2   4   4   4   4   2   2   4   4   2   2   4   4   2   2   4   2   4   4   4   4   2   4   2   2   4   4   4   4   4   4   4   4   4   4   4   4   4   2   2   2   4   2   4   4   2   2   4   4   4   4   4   4   4   4   2   2   2   2   2   4   2   4   4   4   2   2   4   4   2   2   4   2   2   2   4   4   4   4   2   4   4   4   4   2   4   2   2   2   2   4   2   2   2   2   2   2   4   4   4   2   4   2   4   2   2   4   4   4   4   2   4   2   2   2   2   4   2   4   4   2   4   2   4   4   2   4   2   2   2   2   4   4   2   2   2   4   4   4   4   4   2   2   4   2   2   4   2   4   4   2   2   2   2   4   4   2   2   4   2   2   4   4   4   4   4   4   4   4   2   4   2   4   4   2   4   2   2   4   4   2   4   2   4   2   2   4   2   4   2   4   4   4   4   4   4   4   4   4   2   4   4   4   4   2   4   4   4   4   2   4   4   4   2   4   4   2   4   2   4   4   4   2   2   4   4   4   2   4   4   2   4   4   4   4   2   4   4   2   4   4   4   2   2   2   2   4   4   2   4   4   4   4   4   4   4   2   2   4   2   4   4   4   2   2   4   4   4   4   4   2   4   2   4   4   4   4   4   4   4   2   4   2   4   2   4   4   4   4   2   4   4   2   4   2   2   2   2   4   4   2   4   4   4   4   4   4   4   4   4   2   2   4   2   4   4   4   2   2   2   2   2   2   4   2   4   2   4   4   4   2   4   4   2   4   4   4   2   4   4   4   4   2   2   2   2   2   4   4   4   2   2   4   2   4   4   2   2   2   2   2   2   4   4   4   4   2   2   4   2   2   4   2   4   4   4   4   2   2   4   4   4   2   4   2   4   4   4   4   2   4   4   4   4   4   2   4   2   4   4   2   2   4   4   2   2   2   2   4   2   4   4   2   4   2   4   2   2   4   2   2   2   4   4   4   4   2   2   2   2   4   4   4   2   4   4   2   4   2   4   4   4   4   4   4   4   2   4   2   4   4   4   2   4   2   4   2   2   2   2   4   4   2   4   4   4   4   4   4   2   2   4   2   4   4   4   4   2   7   2   2   4   4   4   4   4   2   2   2   7   4   4   2   4   4   2   4   4   2   4   4   2   4   4   4   2   2   4   4   4   4   4   2   4   2   2   4   4   2   2   4   4   2   2   2   2   4   2   2   4   2   2   4   4   4   4   4   2   4   4   2   2   4   4   4   2   4   4   2   2   4   4   4   4   2   2   2   4   2   4   4   4   2   2   4   2   4   4   2   4   4   4   4   4   2   2   4   2   2   4   2   4   4   2   2   4   4   4   4   2   4   4   2   2   2   2   4   2   2   4   4   4   2   4   2   2   2   4   4   2   4   4   2   4   4   4   4   2   2   4   4   4   4   4   4   2   4   4   2   2   2   4   4   2   2   2   2   4   2   4   4   2   4   2   2   4   4   2   2   4   4   4   4   4   4   2   4   2   4   2   4   2   4   4   4   4   4   2   2   2   4   4   4   4   2   2   4   4   2   4   4   2   2   2   2   4   2   4   4   4   4   2   7   4   4   4   4   4   4   4   2   4   2   2   4   4   7   4   4   2   2   7   4   4   4   4   4   2   4   2   4   2   4   2   4   2   4   4   4   4   2   2   4   4   7   4   4   2   4   4   2   2   2   4   4   2   4   4   2   7   2   2   4   4   4   2   4   4   2   4   4   2   4   4   7   4   2   4   4   4   4   4   7   4   4   2   2   4   2   7   4   2   2   4   4   4   4   4   2   4   4   4   4   4   4   4   4   7   2   4   2   4   2   4   4   4   4   2   4   2   4   4   4   4   4   2   4   7   2   2   2   4   4   7   4   4   4   4   4   4   2   4   4   4   4   2   4   2   4   2   4   4   4   4   4   2   2   2   4   4   4   2   2   2   7   4   4   4   4   4   2   4   4   4   4   2   2   7   4   4   4   4   2   2   4   2   2   4   4   4   2   4   7   4   2   4   4   2   2   4   2   2   2   4   4   4   7   4   2   2   2   4   2   2   4   4   4   4   4   2   4   4   2   4   2   2   4   4   4   4   4   4   2   4   2   4   2   4   4   2   2   4   7   2   7   4   4   4   7   2   7   2   4   4   2   2   2   4   4   4   4   2   4   4   4   7   4   4   2   2   4   4   2   4   4   2   4   2   4   2   4   4   4   2   4   4   4   2   4   4   4   2   4   2   4   4   4   4   4   4   4   4   4   4   2   4   4   4   4   4   4   2   4   4   4   2   4   4   4   2   4   4   4   4   4   4   4   4   2   2   4   4   2   4   2   2   4   4   4   4   4   4   2   4   4   4   2   4   4   2   2   4   4   4   7   4   2   4   2   2   4   4   4   4   4   4   2   2   4   2   4   4   4   2   4   4   2   4   4   4   4   4   4   2   2   4   2   4   2   4   2   2   4   2   4   2   2   4   4   4   2   2   2   2   4   4   4   4   2   4   4   4   4   4   2   4   2   4   4   4   4   4   4   4   7   7   4   4   4   4   2   2   4   2   4   2   2   4   2   4   4   4   4   2   2   2   2   4   2   4   2   4   4   4   4   2   4   4   4   4   4   4   2   4   4   2   4   4   2   2   2   2   4   2   4   4   4   4   4   4   2   2   4   2   2   4   2   2   4   4   4   4   4   4   4   4   4   4   4   2   2   4   4   4   2   4   4   4   2   4   4   4   4   4   2   2   4   4   2   4   2   2   4   4   4   2   4   2   2   4   4   4   2   4   2   2   2   2   2   4   4   4   4   4   4   2   2   2   4   4   4   4   2   4   4   4   4   2   4   2   2   4   4   4   4   4   4   2   4   2   4   4   2   2   4   2   4   4   4   4   4   2   4   2   2   4   4   4   4   2   4   2   4   4   4   7   2   4   4   2   4   4   4   4   2   2   4   2   2   4   4   4   4   4   4   2   4   2   2   2   4   2   2   4   4   2   2   4   4   2   4   4   4   4   4   4   2   2   4   2   2   4   4   2   4   4   4   2   4   2   4   4   4   4   4   4   2   4   2   2   4   2   4   4   4   4   4   2   2   4   4   4   2   2   4   4   4   4   2   4   2   4   4   2   4   4   4   4   4   4   2   4   4   4   4   4   4   4   2   7   2   4   4   4   4   2   4   4   4   4   4   4   4   4   4   4   4   2   4   4   4   4   2   4   4   4   4   4   4   4   4   4   4   4   4   4   4   2   2   4   4   4   4   4   4   4   4   2   4   4   4   4   4   2   4   2   4   4   4   4   4   7   2   4   4   4   4   4   2   4   4   2   4   4   4   2   7   4   2   4   2   4   2   4   4   4   4   4   2   2   4   4   2   4   4   4   4   2   4   2   4   4   4   4   2   4   4   4   4   4   2   4   4   2   4   2   4   4   4   4   4   4   4   4   2   4   2   2   2   2   2   2   4   2   4   4   2   4   4   4   2   2   4   2   2   4   4   4   2   4   2   4   4   2   2   4   2   4   2   2   4   4   4   4   4   2   4   4   4   4   4   4   2   4   2   2   4   2   4   2   4   2   2   4   2   2   7   2   2   2   4   4   4   4   4   2   4   4   4   4   4   4   4   2   4   2   4   4   4   4   2   2   2   2   4   7   4   4   4   4   4   2   2   4   2   2   4   4   4   4   2   4   2   4   4   2   4   2   4   4   4   4   4   4   2   2   4   4   4   2   4   4   4   2   4   4   4   4   2   4   4   4   4   4   4   2   2   4   4   2   2   4   4   2   2   2   4   4   4   4   4   4   2   4   4   4   4   2   4   4   2   2   4   2   4   2   4   4   4   4   4   4   2   4   2   2   2   2   4   4   4   4   4   4   2   4   4   2   4   4   4   4   2   4   4   4   4   2   2   2   2   4   4   4   4   2   4   2   2   4   2   4   4   2   4   4   4   2   4   4   7   4   2   4   4   4   4   2   4   4   4   4   4   4   4   4   4   2   4   2   4   2   2   4   2   4   4   4   4   2   4   4   2   2   2   2   2   4   4   2   2   4   4   2   4   2   2   4   4   4   4   2   4   4   4   2   2   4   4   2   2   4   4   4   2   2   4   4   4   4   4   2   4   2   2   2   2   4   4   4   2   2   2   4   2   2   4   4   4   2   4   2   2   2   2   2   2   4   4   4   4   4   4   4   2   4   2   4   2   4   2   2   4   2   4   2   4   2   4   4   4   2   4   4   4   2   4   2   4   4   4   4   4   2   4   4   2   4   4   4   4   2   2   4   4   4   2   4   4   2   4   2   4   4   2   4   2   2   4   4   2   2   4   4   2   4   2   4   4   4   2   4   4   4   4   4   4   4   4   4   4   4   4   4   4   4   4   2   7   2   4   4   2   4   4   4   4   4   4   4   4   2   4   4   4   4   2   4   4   2   2   4   4   2   2   4   4   4   2   4   4   2   2   4   4   2   4   4   4   4   2   4   4   4   4   2   4   4   2   4   2   4   4   4   7   4   4   4   4   4   4   2   4   4   2   4   4   4   4   4   2   4   2   4   2   4   4   4   4   4   4   4   4   4   4   2   2   4   4   4   4   4   4   4   7   2   4   4   7   4   2   2   4   7   4   4   4   4   4   2   2   4   2   2   2   4   2   4   7   2   4   2   2   4   4   4   4   4   4   4   4   4   2   4   2   4   4   2   2   4   4   4   4   2   4   2   4   4   2   4   4   4   4   4   4   4   4   2   4   4   2   4   2   4   4   7   2   4   2   4   4   4   2   2   4   4   2   2   2   4   2   4   4   4   4   4   4   2   4   2   4   4   2   4   4   4   4   2   7   2   2   4   2   4   4   4   4   4   2   4   4   4   4   2   4   2   4   4   2   4   4   4   2   2   2   4   4   2   2   4   4   4   4   4   4   2   4   4   4   2   4   4   4   2   2   4   2   4   4   4   2   4   2   2   2   4   2   4   4   4   4   4   4   2   2   2   4   4   4   2   4   2   4   4   4   4   4   4   4   2   2   4   4   4   2   2   2   4   4   2   2   2   4   4   2   4   4   4   4   2   4   4   2   4   4   4   4   4   4   4   4   2   4   2   2   4   4   4   4   4   2   2   4   4   2   2   4   4   4   4   4   2   4   2   2   4   4   2   4   4   4   2   2   4   4   2   4   4   2   4   4   4   2   4   2   4   2   2   4   2   2   4   4   4   4   4   4   4   4   2   4   4   4   4   4   4   4   2   4   2   4   4   4   4   2   4   4   2   4   7   4   4   4   4   4   4   2   4   2   2   4   2   4   2   2   4   4   4   4   4   4   4   4   4   2   4   2   4   2   2   4   2   4   2   2   2   4   2   4   7   4   4   2   2   2   4   4   4   4   2   4   4   4   4   2   4   2   4   4   2   4   4   4   2   2   4   4   2   4   2   2   4   4   2   4   4   2   4   2   4   4   4   4   4   2   4   4   4   2   2   2   4   4   4   4   4   4   4   2   4   4   4   4   4   4   2   4   4   2   7   2   4   4   4   4   4   2   4   2   4   2   4   4   2   4   4   4   4   4   2   4   4   2   4   4   4   4   2   4   4   2   4   4   2   4   4   4   2   2   4   4   4   2   2   4   2   2   4   2   2   2   2   2   2   4   4   4   4   4   2   4   2   4   2   2   4   7   2   2   4   2   4   4   4   4   4   4   4   4   2   2   4   2   2   4   2   2   4   2   2   4   4   4   2   4   4   4   4   4   4   2   2   4   4   4   2   4   4   4   2   4   2   2   4   2   4   4   2   4   4   4   4   4   2   4   2   4   4   4   4   2   4   2   4   2   2   2   2   4   4   4   2   2   4   4   4   4   4   2   4   4   2   4   2   4   2   4   2   2   2   4   2   4   2   4   2   4   4   2   4   2   4   4   4   4   4   2   2   4   4   4   4   4   2   4   4   2   2   2   4   4   2   2   4   2   4   2   2   4   4   2   2   2   4   2   4   2   2   2   4   2   2   2   4   4   4   2   2   4   2   2   4   2   4   2   4   2   2   4   2   4   2   2   4   2   4   4   2   4   2   2   4   4   4   4   2   4   2   2   2   2   2   4   2   2   4   2   2   2   4   2   4   4   4   4   4   4   4   2   4   4   4   2   2   2   4   2   4   2   2   4   2   4   4   4   4   2   4   4   2   2   2   2   2   2   4   4   4   2   2   4   2   4   2   2   4   2   4   2   2   2   2   4   4   4   4   4   2   4   2   2   4   4   2   4   2   4   4   2   2   2   4   2   2   4   2   2   2   2   4   4   2   2   4   2   2   4   2   4   2   4   4   2   4   4   4   4   4   4   2   2   2   4   2   2   2   2   2   2   2   2   2   2   4   4   4   2   4   2   4   4   2   2   2   2   2   2   2   4   2   2   4   2   4   4   4   2   4   4   2   2   2   4   4   2   4   2   4   4   2   2   2   4   4   4   4   4   4   4   4   4   4   4   4   4   4   4   2   4   2   2   2   2   4   4   4   4   2   2   2   4   2   2   4   4   4   4   2   4   4   4   4   4   2   2   2   2   4   2   2   2   4   4   2   4   2   2   4   4   4   4   2   4   2   4   4   4   4   2   4   4   4   4   2   4   2   2   2   4\n"
     ]
    }
   ],
   "source": [
    "dataiter = iter(test_loader)\n",
    "images, labels = dataiter.next()\n",
    "\n",
    "imshow(torchvision.utils.make_grid(images,nrow=batch_size))\n",
    "print('GroundTruth')\n",
    "print(\"  \"+' '.join('%3s' % label.item() for label in labels))\n",
    "\n",
    "outputs, z1, a1, z2, a2, a3, a4 = model(images)\n",
    "print(outputs)\n",
    "_, predicted = torch.max(outputs, 1)\n",
    "print('Prediction')\n",
    "print(\"  \"+' '.join('%3s' % label.item() for label in predicted))"
   ]
  },
  {
   "cell_type": "code",
   "execution_count": 25,
   "metadata": {
    "colab": {
     "base_uri": "https://localhost:8080/"
    },
    "id": "EaLMAmi_3hHk",
    "outputId": "3ebaa5ce-9b5d-4ceb-c218-b81e5d5ffadf"
   },
   "outputs": [
    {
     "name": "stdout",
     "output_type": "stream",
     "text": [
      "1112/10000\n",
      "Accuracy: 0.111\n"
     ]
    }
   ],
   "source": [
    "n_predict = 0\n",
    "n_correct = 0\n",
    "\n",
    "for data in test_loader:\n",
    "    inputs, labels = data\n",
    "    outputs, z1, a1, z2, a2, a3, a4 = model(inputs)\n",
    "    _, predicted = torch.max(outputs, 1)\n",
    "    \n",
    "    n_predict += len(predicted)\n",
    "    n_correct += (labels == predicted).sum()\n",
    "    \n",
    "print(f\"{n_correct}/{n_predict}\")\n",
    "print(f\"Accuracy: {n_correct/n_predict:.3f}\")"
   ]
  },
  {
   "cell_type": "code",
   "execution_count": 26,
   "metadata": {
    "colab": {
     "base_uri": "https://localhost:8080/"
    },
    "id": "G7F4HAyBEu-f",
    "outputId": "de48c288-1572-4c76-c7da-4dc366bd6eee"
   },
   "outputs": [
    {
     "name": "stdout",
     "output_type": "stream",
     "text": [
      "(60000, 512)\n",
      "(60000, 256)\n",
      "(60000, 512)\n",
      "(60000, 256)\n"
     ]
    }
   ],
   "source": [
    "print(a11.shape)\n",
    "print(a22.shape)\n",
    "print(z11.shape)\n",
    "print(z22.shape)"
   ]
  },
  {
   "cell_type": "code",
   "execution_count": 27,
   "metadata": {
    "id": "RuzaWB_vl8ih"
   },
   "outputs": [],
   "source": [
    "a11 = a11.numpy()\n",
    "a22 = a22.numpy()\n",
    "z11 = z11.numpy()\n",
    "z22 = z22.numpy()"
   ]
  },
  {
   "cell_type": "markdown",
   "metadata": {
    "id": "9VRYRUlPl9op"
   },
   "source": [
    "### **여기부터 plot 그리는 부분!!**"
   ]
  },
  {
   "cell_type": "code",
   "execution_count": 28,
   "metadata": {
    "colab": {
     "base_uri": "https://localhost:8080/"
    },
    "id": "owYrYbi23hHk",
    "outputId": "fae2d75f-781e-4d09-dd49-8ddf5b84794d"
   },
   "outputs": [
    {
     "name": "stdout",
     "output_type": "stream",
     "text": [
      "X.shape : (0, 512)\n",
      "y.shape : (0,)\n"
     ]
    }
   ],
   "source": [
    "X = a11[540000:600000]\n",
    "y = label[540000:600000]\n",
    "\n",
    "print(f'X.shape : {X.shape}')\n",
    "print(f'y.shape : {y.shape}')\n"
   ]
  },
  {
   "cell_type": "code",
   "execution_count": 29,
   "metadata": {
    "id": "gzgfAUI-3hHl"
   },
   "outputs": [],
   "source": [
    "feat_cols = [f'pixel{i}' for  i in range(X.shape[1])]\n"
   ]
  },
  {
   "cell_type": "code",
   "execution_count": 30,
   "metadata": {
    "id": "fNYqvXoS3hHl"
   },
   "outputs": [],
   "source": [
    "df = pd.DataFrame(X, columns=feat_cols)\n"
   ]
  },
  {
   "cell_type": "code",
   "execution_count": 31,
   "metadata": {
    "colab": {
     "base_uri": "https://localhost:8080/",
     "height": 434
    },
    "id": "HkmqmZt73hHl",
    "outputId": "bdd3f14e-0172-4bbf-fd4b-db89c17998e4"
   },
   "outputs": [
    {
     "data": {
      "text/html": [
       "<div>\n",
       "<style scoped>\n",
       "    .dataframe tbody tr th:only-of-type {\n",
       "        vertical-align: middle;\n",
       "    }\n",
       "\n",
       "    .dataframe tbody tr th {\n",
       "        vertical-align: top;\n",
       "    }\n",
       "\n",
       "    .dataframe thead th {\n",
       "        text-align: right;\n",
       "    }\n",
       "</style>\n",
       "<table border=\"1\" class=\"dataframe\">\n",
       "  <thead>\n",
       "    <tr style=\"text-align: right;\">\n",
       "      <th></th>\n",
       "      <th>pixel0</th>\n",
       "      <th>pixel1</th>\n",
       "      <th>pixel2</th>\n",
       "      <th>pixel3</th>\n",
       "      <th>pixel4</th>\n",
       "      <th>pixel5</th>\n",
       "      <th>pixel6</th>\n",
       "      <th>pixel7</th>\n",
       "      <th>pixel8</th>\n",
       "      <th>pixel9</th>\n",
       "      <th>...</th>\n",
       "      <th>pixel503</th>\n",
       "      <th>pixel504</th>\n",
       "      <th>pixel505</th>\n",
       "      <th>pixel506</th>\n",
       "      <th>pixel507</th>\n",
       "      <th>pixel508</th>\n",
       "      <th>pixel509</th>\n",
       "      <th>pixel510</th>\n",
       "      <th>pixel511</th>\n",
       "      <th>y</th>\n",
       "    </tr>\n",
       "  </thead>\n",
       "  <tbody>\n",
       "  </tbody>\n",
       "</table>\n",
       "<p>0 rows × 513 columns</p>\n",
       "</div>"
      ],
      "text/plain": [
       "Empty DataFrame\n",
       "Columns: [pixel0, pixel1, pixel2, pixel3, pixel4, pixel5, pixel6, pixel7, pixel8, pixel9, pixel10, pixel11, pixel12, pixel13, pixel14, pixel15, pixel16, pixel17, pixel18, pixel19, pixel20, pixel21, pixel22, pixel23, pixel24, pixel25, pixel26, pixel27, pixel28, pixel29, pixel30, pixel31, pixel32, pixel33, pixel34, pixel35, pixel36, pixel37, pixel38, pixel39, pixel40, pixel41, pixel42, pixel43, pixel44, pixel45, pixel46, pixel47, pixel48, pixel49, pixel50, pixel51, pixel52, pixel53, pixel54, pixel55, pixel56, pixel57, pixel58, pixel59, pixel60, pixel61, pixel62, pixel63, pixel64, pixel65, pixel66, pixel67, pixel68, pixel69, pixel70, pixel71, pixel72, pixel73, pixel74, pixel75, pixel76, pixel77, pixel78, pixel79, pixel80, pixel81, pixel82, pixel83, pixel84, pixel85, pixel86, pixel87, pixel88, pixel89, pixel90, pixel91, pixel92, pixel93, pixel94, pixel95, pixel96, pixel97, pixel98, pixel99, ...]\n",
       "Index: []\n",
       "\n",
       "[0 rows x 513 columns]"
      ]
     },
     "execution_count": 31,
     "metadata": {},
     "output_type": "execute_result"
    }
   ],
   "source": [
    "df['y'] = y\n",
    "df"
   ]
  },
  {
   "cell_type": "code",
   "execution_count": 32,
   "metadata": {
    "colab": {
     "base_uri": "https://localhost:8080/"
    },
    "id": "auwcND9U8d8V",
    "outputId": "27c874b1-fb90-4f92-bc53-97f4c831d475"
   },
   "outputs": [
    {
     "name": "stdout",
     "output_type": "stream",
     "text": [
      "0\n"
     ]
    }
   ],
   "source": [
    "np.random.seed(42)\n",
    "rndperm = np.random.permutation(df.shape[0])\n",
    "print(df.shape[0])"
   ]
  },
  {
   "cell_type": "code",
   "execution_count": 33,
   "metadata": {
    "colab": {
     "base_uri": "https://localhost:8080/"
    },
    "id": "ZT9NRj8D8gKe",
    "outputId": "48d04c49-3876-42bd-9e25-d98b65467ee2"
   },
   "outputs": [
    {
     "ename": "ValueError",
     "evalue": "Found array with 0 sample(s) (shape=(0, 512)) while a minimum of 1 is required.",
     "output_type": "error",
     "traceback": [
      "\u001b[1;31m---------------------------------------------------------------------------\u001b[0m",
      "\u001b[1;31mValueError\u001b[0m                                Traceback (most recent call last)",
      "\u001b[1;32m<ipython-input-33-584bbb40ecfd>\u001b[0m in \u001b[0;36m<module>\u001b[1;34m\u001b[0m\n\u001b[0;32m      1\u001b[0m \u001b[0mpca\u001b[0m \u001b[1;33m=\u001b[0m \u001b[0mPCA\u001b[0m\u001b[1;33m(\u001b[0m\u001b[0mn_components\u001b[0m\u001b[1;33m=\u001b[0m\u001b[1;36m2\u001b[0m\u001b[1;33m)\u001b[0m\u001b[1;33m\u001b[0m\u001b[1;33m\u001b[0m\u001b[0m\n\u001b[1;32m----> 2\u001b[1;33m \u001b[0mpca_result\u001b[0m \u001b[1;33m=\u001b[0m \u001b[0mpca\u001b[0m\u001b[1;33m.\u001b[0m\u001b[0mfit_transform\u001b[0m\u001b[1;33m(\u001b[0m\u001b[0mdf\u001b[0m\u001b[1;33m[\u001b[0m\u001b[0mfeat_cols\u001b[0m\u001b[1;33m]\u001b[0m\u001b[1;33m.\u001b[0m\u001b[0mvalues\u001b[0m\u001b[1;33m)\u001b[0m\u001b[1;33m\u001b[0m\u001b[1;33m\u001b[0m\u001b[0m\n\u001b[0m\u001b[0;32m      3\u001b[0m \u001b[0mprint\u001b[0m\u001b[1;33m(\u001b[0m\u001b[0mpca_result\u001b[0m\u001b[1;33m.\u001b[0m\u001b[0mshape\u001b[0m\u001b[1;33m)\u001b[0m\u001b[1;33m\u001b[0m\u001b[1;33m\u001b[0m\u001b[0m\n\u001b[0;32m      4\u001b[0m \u001b[0mdf\u001b[0m\u001b[1;33m[\u001b[0m\u001b[1;34m'pca-one'\u001b[0m\u001b[1;33m]\u001b[0m \u001b[1;33m=\u001b[0m \u001b[0mpca_result\u001b[0m\u001b[1;33m[\u001b[0m\u001b[1;33m:\u001b[0m\u001b[1;33m,\u001b[0m\u001b[1;36m0\u001b[0m\u001b[1;33m]\u001b[0m\u001b[1;33m\u001b[0m\u001b[1;33m\u001b[0m\u001b[0m\n\u001b[0;32m      5\u001b[0m \u001b[0mdf\u001b[0m\u001b[1;33m[\u001b[0m\u001b[1;34m'pca-two'\u001b[0m\u001b[1;33m]\u001b[0m \u001b[1;33m=\u001b[0m \u001b[0mpca_result\u001b[0m\u001b[1;33m[\u001b[0m\u001b[1;33m:\u001b[0m\u001b[1;33m,\u001b[0m\u001b[1;36m1\u001b[0m\u001b[1;33m]\u001b[0m\u001b[1;33m\u001b[0m\u001b[1;33m\u001b[0m\u001b[0m\n",
      "\u001b[1;32mC:\\ProgramData\\Anaconda3\\lib\\site-packages\\sklearn\\decomposition\\_pca.py\u001b[0m in \u001b[0;36mfit_transform\u001b[1;34m(self, X, y)\u001b[0m\n\u001b[0;32m    374\u001b[0m         \u001b[0mC\u001b[0m\u001b[1;33m-\u001b[0m\u001b[0mordered\u001b[0m \u001b[0marray\u001b[0m\u001b[1;33m,\u001b[0m \u001b[0muse\u001b[0m \u001b[1;34m'np.ascontiguousarray'\u001b[0m\u001b[1;33m.\u001b[0m\u001b[1;33m\u001b[0m\u001b[1;33m\u001b[0m\u001b[0m\n\u001b[0;32m    375\u001b[0m         \"\"\"\n\u001b[1;32m--> 376\u001b[1;33m         \u001b[0mU\u001b[0m\u001b[1;33m,\u001b[0m \u001b[0mS\u001b[0m\u001b[1;33m,\u001b[0m \u001b[0mV\u001b[0m \u001b[1;33m=\u001b[0m \u001b[0mself\u001b[0m\u001b[1;33m.\u001b[0m\u001b[0m_fit\u001b[0m\u001b[1;33m(\u001b[0m\u001b[0mX\u001b[0m\u001b[1;33m)\u001b[0m\u001b[1;33m\u001b[0m\u001b[1;33m\u001b[0m\u001b[0m\n\u001b[0m\u001b[0;32m    377\u001b[0m         \u001b[0mU\u001b[0m \u001b[1;33m=\u001b[0m \u001b[0mU\u001b[0m\u001b[1;33m[\u001b[0m\u001b[1;33m:\u001b[0m\u001b[1;33m,\u001b[0m \u001b[1;33m:\u001b[0m\u001b[0mself\u001b[0m\u001b[1;33m.\u001b[0m\u001b[0mn_components_\u001b[0m\u001b[1;33m]\u001b[0m\u001b[1;33m\u001b[0m\u001b[1;33m\u001b[0m\u001b[0m\n\u001b[0;32m    378\u001b[0m \u001b[1;33m\u001b[0m\u001b[0m\n",
      "\u001b[1;32mC:\\ProgramData\\Anaconda3\\lib\\site-packages\\sklearn\\decomposition\\_pca.py\u001b[0m in \u001b[0;36m_fit\u001b[1;34m(self, X)\u001b[0m\n\u001b[0;32m    395\u001b[0m                             'TruncatedSVD for a possible alternative.')\n\u001b[0;32m    396\u001b[0m \u001b[1;33m\u001b[0m\u001b[0m\n\u001b[1;32m--> 397\u001b[1;33m         X = self._validate_data(X, dtype=[np.float64, np.float32],\n\u001b[0m\u001b[0;32m    398\u001b[0m                                 ensure_2d=True, copy=self.copy)\n\u001b[0;32m    399\u001b[0m \u001b[1;33m\u001b[0m\u001b[0m\n",
      "\u001b[1;32mC:\\ProgramData\\Anaconda3\\lib\\site-packages\\sklearn\\base.py\u001b[0m in \u001b[0;36m_validate_data\u001b[1;34m(self, X, y, reset, validate_separately, **check_params)\u001b[0m\n\u001b[0;32m    418\u001b[0m                     \u001b[1;34mf\"requires y to be passed, but the target y is None.\"\u001b[0m\u001b[1;33m\u001b[0m\u001b[1;33m\u001b[0m\u001b[0m\n\u001b[0;32m    419\u001b[0m                 )\n\u001b[1;32m--> 420\u001b[1;33m             \u001b[0mX\u001b[0m \u001b[1;33m=\u001b[0m \u001b[0mcheck_array\u001b[0m\u001b[1;33m(\u001b[0m\u001b[0mX\u001b[0m\u001b[1;33m,\u001b[0m \u001b[1;33m**\u001b[0m\u001b[0mcheck_params\u001b[0m\u001b[1;33m)\u001b[0m\u001b[1;33m\u001b[0m\u001b[1;33m\u001b[0m\u001b[0m\n\u001b[0m\u001b[0;32m    421\u001b[0m             \u001b[0mout\u001b[0m \u001b[1;33m=\u001b[0m \u001b[0mX\u001b[0m\u001b[1;33m\u001b[0m\u001b[1;33m\u001b[0m\u001b[0m\n\u001b[0;32m    422\u001b[0m         \u001b[1;32melse\u001b[0m\u001b[1;33m:\u001b[0m\u001b[1;33m\u001b[0m\u001b[1;33m\u001b[0m\u001b[0m\n",
      "\u001b[1;32mC:\\ProgramData\\Anaconda3\\lib\\site-packages\\sklearn\\utils\\validation.py\u001b[0m in \u001b[0;36minner_f\u001b[1;34m(*args, **kwargs)\u001b[0m\n\u001b[0;32m     70\u001b[0m                           FutureWarning)\n\u001b[0;32m     71\u001b[0m         \u001b[0mkwargs\u001b[0m\u001b[1;33m.\u001b[0m\u001b[0mupdate\u001b[0m\u001b[1;33m(\u001b[0m\u001b[1;33m{\u001b[0m\u001b[0mk\u001b[0m\u001b[1;33m:\u001b[0m \u001b[0marg\u001b[0m \u001b[1;32mfor\u001b[0m \u001b[0mk\u001b[0m\u001b[1;33m,\u001b[0m \u001b[0marg\u001b[0m \u001b[1;32min\u001b[0m \u001b[0mzip\u001b[0m\u001b[1;33m(\u001b[0m\u001b[0msig\u001b[0m\u001b[1;33m.\u001b[0m\u001b[0mparameters\u001b[0m\u001b[1;33m,\u001b[0m \u001b[0margs\u001b[0m\u001b[1;33m)\u001b[0m\u001b[1;33m}\u001b[0m\u001b[1;33m)\u001b[0m\u001b[1;33m\u001b[0m\u001b[1;33m\u001b[0m\u001b[0m\n\u001b[1;32m---> 72\u001b[1;33m         \u001b[1;32mreturn\u001b[0m \u001b[0mf\u001b[0m\u001b[1;33m(\u001b[0m\u001b[1;33m**\u001b[0m\u001b[0mkwargs\u001b[0m\u001b[1;33m)\u001b[0m\u001b[1;33m\u001b[0m\u001b[1;33m\u001b[0m\u001b[0m\n\u001b[0m\u001b[0;32m     73\u001b[0m     \u001b[1;32mreturn\u001b[0m \u001b[0minner_f\u001b[0m\u001b[1;33m\u001b[0m\u001b[1;33m\u001b[0m\u001b[0m\n\u001b[0;32m     74\u001b[0m \u001b[1;33m\u001b[0m\u001b[0m\n",
      "\u001b[1;32mC:\\ProgramData\\Anaconda3\\lib\\site-packages\\sklearn\\utils\\validation.py\u001b[0m in \u001b[0;36mcheck_array\u001b[1;34m(array, accept_sparse, accept_large_sparse, dtype, order, copy, force_all_finite, ensure_2d, allow_nd, ensure_min_samples, ensure_min_features, estimator)\u001b[0m\n\u001b[0;32m    648\u001b[0m         \u001b[0mn_samples\u001b[0m \u001b[1;33m=\u001b[0m \u001b[0m_num_samples\u001b[0m\u001b[1;33m(\u001b[0m\u001b[0marray\u001b[0m\u001b[1;33m)\u001b[0m\u001b[1;33m\u001b[0m\u001b[1;33m\u001b[0m\u001b[0m\n\u001b[0;32m    649\u001b[0m         \u001b[1;32mif\u001b[0m \u001b[0mn_samples\u001b[0m \u001b[1;33m<\u001b[0m \u001b[0mensure_min_samples\u001b[0m\u001b[1;33m:\u001b[0m\u001b[1;33m\u001b[0m\u001b[1;33m\u001b[0m\u001b[0m\n\u001b[1;32m--> 650\u001b[1;33m             raise ValueError(\"Found array with %d sample(s) (shape=%s) while a\"\n\u001b[0m\u001b[0;32m    651\u001b[0m                              \u001b[1;34m\" minimum of %d is required%s.\"\u001b[0m\u001b[1;33m\u001b[0m\u001b[1;33m\u001b[0m\u001b[0m\n\u001b[0;32m    652\u001b[0m                              % (n_samples, array.shape, ensure_min_samples,\n",
      "\u001b[1;31mValueError\u001b[0m: Found array with 0 sample(s) (shape=(0, 512)) while a minimum of 1 is required."
     ]
    }
   ],
   "source": [
    "pca = PCA(n_components=2)\n",
    "pca_result = pca.fit_transform(df[feat_cols].values)\n",
    "print(pca_result.shape)\n",
    "df['pca-one'] = pca_result[:,0]\n",
    "df['pca-two'] = pca_result[:,1]\n",
    "print('Explained variation per principal component: {}'.format(pca.explained_variance_ratio_))\n"
   ]
  },
  {
   "cell_type": "code",
   "execution_count": null,
   "metadata": {
    "colab": {
     "base_uri": "https://localhost:8080/",
     "height": 551
    },
    "id": "EMqwBT8i82uN",
    "outputId": "ce8dde2c-db7b-49dd-b17e-a532885e45bf"
   },
   "outputs": [],
   "source": [
    "plt.figure(figsize=(13,9))\n",
    "sns.scatterplot(\n",
    "    x=\"pca-one\", y=\"pca-two\",\n",
    "    hue=\"y\",\n",
    "    palette=sns.color_palette(\"hls\", 10),\n",
    "    data=df.loc[rndperm,:],\n",
    "    legend=\"full\",\n",
    "    alpha=0.3\n",
    ")\n",
    "plt.show()"
   ]
  },
  {
   "cell_type": "code",
   "execution_count": null,
   "metadata": {
    "colab": {
     "base_uri": "https://localhost:8080/"
    },
    "id": "yX2kgQi68IMa",
    "outputId": "c85a0c50-b3ca-492f-a89d-7c0dc4ae7da9"
   },
   "outputs": [],
   "source": [
    "N = 10000\n",
    "df_subset = df.loc[rndperm[:N],:].copy()\n",
    "data_subset = df_subset[feat_cols].values\n",
    "pca = PCA(n_components = 2)\n",
    "pca_result = pca.fit_transform(data_subset)\n",
    "df_subset['pca-one'] = pca_result[:,0]\n",
    "df_subset['pca-two'] = pca_result[:,1]\n",
    "print('Explained variation per principal component: {}'.format(pca.explained_variance_ratio_))"
   ]
  },
  {
   "cell_type": "code",
   "execution_count": null,
   "metadata": {
    "colab": {
     "base_uri": "https://localhost:8080/"
    },
    "id": "GvQLQ0bE8xSV",
    "outputId": "9508fbdd-a2d9-4082-dc3b-7c968516e206"
   },
   "outputs": [],
   "source": [
    "time_start = time.time()\n",
    "tsne = TSNE(n_components=2,verbose=1,perplexity=40,n_iter=300)\n",
    "tsne_results = tsne.fit_transform(data_subset)\n",
    "df_subset['tsne-2d-one'] = tsne_results[:,0]\n",
    "df_subset['tsne-2d-two'] = tsne_results[:,1]\n",
    "print('t-SNE done! Time elapsed: {} secpmds'.format(time.time()-time_start))"
   ]
  },
  {
   "cell_type": "code",
   "execution_count": null,
   "metadata": {
    "colab": {
     "base_uri": "https://localhost:8080/",
     "height": 460
    },
    "id": "w5Tfk9QZ8Lkw",
    "outputId": "f662b2e6-9e25-4425-dc62-3ebe54f6c728"
   },
   "outputs": [],
   "source": [
    "plt.figure(figsize=(16,7))\n",
    "ax1 = plt.subplot(1, 2, 1)\n",
    "sns.scatterplot(\n",
    "    x=\"pca-one\", y=\"pca-two\",\n",
    "    hue=\"y\",\n",
    "    palette=sns.color_palette(\"hls\", 10),\n",
    "    data=df_subset,\n",
    "    legend=\"full\",\n",
    "    alpha=0.3,\n",
    "    ax=ax1\n",
    ")\n",
    "ax2 = plt.subplot(1, 2, 2)\n",
    "sns.scatterplot(\n",
    "    x=\"tsne-2d-one\", y=\"tsne-2d-two\",\n",
    "    hue=\"y\",\n",
    "    palette=sns.color_palette(\"hls\", 10),\n",
    "    data=df_subset,\n",
    "    legend=\"full\",\n",
    "    alpha=0.3,\n",
    "    ax=ax2\n",
    ")"
   ]
  }
 ],
 "metadata": {
  "accelerator": "GPU",
  "colab": {
   "collapsed_sections": [],
   "name": "DNN_MNIST_a1.ipynb",
   "provenance": []
  },
  "kernelspec": {
   "display_name": "Python 3",
   "language": "python",
   "name": "python3"
  },
  "language_info": {
   "codemirror_mode": {
    "name": "ipython",
    "version": 3
   },
   "file_extension": ".py",
   "mimetype": "text/x-python",
   "name": "python",
   "nbconvert_exporter": "python",
   "pygments_lexer": "ipython3",
   "version": "3.8.5"
  },
  "widgets": {
   "application/vnd.jupyter.widget-state+json": {
    "01e4915ede4144ac82ffad111e39775f": {
     "model_module": "@jupyter-widgets/controls",
     "model_module_version": "1.5.0",
     "model_name": "HTMLModel",
     "state": {
      "_dom_classes": [],
      "_model_module": "@jupyter-widgets/controls",
      "_model_module_version": "1.5.0",
      "_model_name": "HTMLModel",
      "_view_count": null,
      "_view_module": "@jupyter-widgets/controls",
      "_view_module_version": "1.5.0",
      "_view_name": "HTMLView",
      "description": "",
      "description_tooltip": null,
      "layout": "IPY_MODEL_a9ec9c673ccb412e8bb87db039466908",
      "placeholder": "​",
      "style": "IPY_MODEL_d77c42f319b54223be541183b6707e2e",
      "value": ""
     }
    },
    "08f6bae4b41448eaa2e2861ebc931f97": {
     "model_module": "@jupyter-widgets/controls",
     "model_module_version": "1.5.0",
     "model_name": "HBoxModel",
     "state": {
      "_dom_classes": [],
      "_model_module": "@jupyter-widgets/controls",
      "_model_module_version": "1.5.0",
      "_model_name": "HBoxModel",
      "_view_count": null,
      "_view_module": "@jupyter-widgets/controls",
      "_view_module_version": "1.5.0",
      "_view_name": "HBoxView",
      "box_style": "",
      "children": [
       "IPY_MODEL_b31fc459edda46eab842fd234014590b",
       "IPY_MODEL_4db57093c82941ce8c4fd212a82ba035",
       "IPY_MODEL_5ea5e62165264a5fb9bdfbc3e8520fcf"
      ],
      "layout": "IPY_MODEL_51b21ee54b944301b2cc7932c8d5ae4f"
     }
    },
    "0c7b66011a4843c9b6c438984c3f10b3": {
     "model_module": "@jupyter-widgets/base",
     "model_module_version": "1.2.0",
     "model_name": "LayoutModel",
     "state": {
      "_model_module": "@jupyter-widgets/base",
      "_model_module_version": "1.2.0",
      "_model_name": "LayoutModel",
      "_view_count": null,
      "_view_module": "@jupyter-widgets/base",
      "_view_module_version": "1.2.0",
      "_view_name": "LayoutView",
      "align_content": null,
      "align_items": null,
      "align_self": null,
      "border": null,
      "bottom": null,
      "display": null,
      "flex": null,
      "flex_flow": null,
      "grid_area": null,
      "grid_auto_columns": null,
      "grid_auto_flow": null,
      "grid_auto_rows": null,
      "grid_column": null,
      "grid_gap": null,
      "grid_row": null,
      "grid_template_areas": null,
      "grid_template_columns": null,
      "grid_template_rows": null,
      "height": null,
      "justify_content": null,
      "justify_items": null,
      "left": null,
      "margin": null,
      "max_height": null,
      "max_width": null,
      "min_height": null,
      "min_width": null,
      "object_fit": null,
      "object_position": null,
      "order": null,
      "overflow": null,
      "overflow_x": null,
      "overflow_y": null,
      "padding": null,
      "right": null,
      "top": null,
      "visibility": null,
      "width": null
     }
    },
    "0fde05067ac548a1b786b2cd24221e74": {
     "model_module": "@jupyter-widgets/controls",
     "model_module_version": "1.5.0",
     "model_name": "DescriptionStyleModel",
     "state": {
      "_model_module": "@jupyter-widgets/controls",
      "_model_module_version": "1.5.0",
      "_model_name": "DescriptionStyleModel",
      "_view_count": null,
      "_view_module": "@jupyter-widgets/base",
      "_view_module_version": "1.2.0",
      "_view_name": "StyleView",
      "description_width": ""
     }
    },
    "11e6ba02a35a4eae8d57c31d1a8314d5": {
     "model_module": "@jupyter-widgets/base",
     "model_module_version": "1.2.0",
     "model_name": "LayoutModel",
     "state": {
      "_model_module": "@jupyter-widgets/base",
      "_model_module_version": "1.2.0",
      "_model_name": "LayoutModel",
      "_view_count": null,
      "_view_module": "@jupyter-widgets/base",
      "_view_module_version": "1.2.0",
      "_view_name": "LayoutView",
      "align_content": null,
      "align_items": null,
      "align_self": null,
      "border": null,
      "bottom": null,
      "display": null,
      "flex": null,
      "flex_flow": null,
      "grid_area": null,
      "grid_auto_columns": null,
      "grid_auto_flow": null,
      "grid_auto_rows": null,
      "grid_column": null,
      "grid_gap": null,
      "grid_row": null,
      "grid_template_areas": null,
      "grid_template_columns": null,
      "grid_template_rows": null,
      "height": null,
      "justify_content": null,
      "justify_items": null,
      "left": null,
      "margin": null,
      "max_height": null,
      "max_width": null,
      "min_height": null,
      "min_width": null,
      "object_fit": null,
      "object_position": null,
      "order": null,
      "overflow": null,
      "overflow_x": null,
      "overflow_y": null,
      "padding": null,
      "right": null,
      "top": null,
      "visibility": null,
      "width": null
     }
    },
    "19b8ed38009346f89cb1361da3d84713": {
     "model_module": "@jupyter-widgets/controls",
     "model_module_version": "1.5.0",
     "model_name": "DescriptionStyleModel",
     "state": {
      "_model_module": "@jupyter-widgets/controls",
      "_model_module_version": "1.5.0",
      "_model_name": "DescriptionStyleModel",
      "_view_count": null,
      "_view_module": "@jupyter-widgets/base",
      "_view_module_version": "1.2.0",
      "_view_name": "StyleView",
      "description_width": ""
     }
    },
    "1f99569b7e8b4555a7edc52cd6598f4a": {
     "model_module": "@jupyter-widgets/controls",
     "model_module_version": "1.5.0",
     "model_name": "ProgressStyleModel",
     "state": {
      "_model_module": "@jupyter-widgets/controls",
      "_model_module_version": "1.5.0",
      "_model_name": "ProgressStyleModel",
      "_view_count": null,
      "_view_module": "@jupyter-widgets/base",
      "_view_module_version": "1.2.0",
      "_view_name": "StyleView",
      "bar_color": null,
      "description_width": ""
     }
    },
    "1ff14fce5ed0490894dfb6b8e9ced961": {
     "model_module": "@jupyter-widgets/base",
     "model_module_version": "1.2.0",
     "model_name": "LayoutModel",
     "state": {
      "_model_module": "@jupyter-widgets/base",
      "_model_module_version": "1.2.0",
      "_model_name": "LayoutModel",
      "_view_count": null,
      "_view_module": "@jupyter-widgets/base",
      "_view_module_version": "1.2.0",
      "_view_name": "LayoutView",
      "align_content": null,
      "align_items": null,
      "align_self": null,
      "border": null,
      "bottom": null,
      "display": null,
      "flex": null,
      "flex_flow": null,
      "grid_area": null,
      "grid_auto_columns": null,
      "grid_auto_flow": null,
      "grid_auto_rows": null,
      "grid_column": null,
      "grid_gap": null,
      "grid_row": null,
      "grid_template_areas": null,
      "grid_template_columns": null,
      "grid_template_rows": null,
      "height": null,
      "justify_content": null,
      "justify_items": null,
      "left": null,
      "margin": null,
      "max_height": null,
      "max_width": null,
      "min_height": null,
      "min_width": null,
      "object_fit": null,
      "object_position": null,
      "order": null,
      "overflow": null,
      "overflow_x": null,
      "overflow_y": null,
      "padding": null,
      "right": null,
      "top": null,
      "visibility": null,
      "width": null
     }
    },
    "23f46dcaec1247f3afc00c0b26f0128a": {
     "model_module": "@jupyter-widgets/controls",
     "model_module_version": "1.5.0",
     "model_name": "DescriptionStyleModel",
     "state": {
      "_model_module": "@jupyter-widgets/controls",
      "_model_module_version": "1.5.0",
      "_model_name": "DescriptionStyleModel",
      "_view_count": null,
      "_view_module": "@jupyter-widgets/base",
      "_view_module_version": "1.2.0",
      "_view_name": "StyleView",
      "description_width": ""
     }
    },
    "31348e22d64645b2ae43d12b91345f6d": {
     "model_module": "@jupyter-widgets/controls",
     "model_module_version": "1.5.0",
     "model_name": "FloatProgressModel",
     "state": {
      "_dom_classes": [],
      "_model_module": "@jupyter-widgets/controls",
      "_model_module_version": "1.5.0",
      "_model_name": "FloatProgressModel",
      "_view_count": null,
      "_view_module": "@jupyter-widgets/controls",
      "_view_module_version": "1.5.0",
      "_view_name": "ProgressView",
      "bar_style": "success",
      "description": "",
      "description_tooltip": null,
      "layout": "IPY_MODEL_fefe0aff8cae44d6a9749f367727e9ea",
      "max": 4542,
      "min": 0,
      "orientation": "horizontal",
      "style": "IPY_MODEL_565514bcfccf4273945ebea0cf958a64",
      "value": 4542
     }
    },
    "31adfe3ef8a648229f1d040e33dd6eec": {
     "model_module": "@jupyter-widgets/controls",
     "model_module_version": "1.5.0",
     "model_name": "DescriptionStyleModel",
     "state": {
      "_model_module": "@jupyter-widgets/controls",
      "_model_module_version": "1.5.0",
      "_model_name": "DescriptionStyleModel",
      "_view_count": null,
      "_view_module": "@jupyter-widgets/base",
      "_view_module_version": "1.2.0",
      "_view_name": "StyleView",
      "description_width": ""
     }
    },
    "3e2fc37deb1e43859b5e897978a6194a": {
     "model_module": "@jupyter-widgets/controls",
     "model_module_version": "1.5.0",
     "model_name": "HTMLModel",
     "state": {
      "_dom_classes": [],
      "_model_module": "@jupyter-widgets/controls",
      "_model_module_version": "1.5.0",
      "_model_name": "HTMLModel",
      "_view_count": null,
      "_view_module": "@jupyter-widgets/controls",
      "_view_module_version": "1.5.0",
      "_view_name": "HTMLView",
      "description": "",
      "description_tooltip": null,
      "layout": "IPY_MODEL_ccc85d4180da46a8afdc951b0c05acc1",
      "placeholder": "​",
      "style": "IPY_MODEL_b94df1268cec4d5a957e7142e2f99521",
      "value": ""
     }
    },
    "4db57093c82941ce8c4fd212a82ba035": {
     "model_module": "@jupyter-widgets/controls",
     "model_module_version": "1.5.0",
     "model_name": "FloatProgressModel",
     "state": {
      "_dom_classes": [],
      "_model_module": "@jupyter-widgets/controls",
      "_model_module_version": "1.5.0",
      "_model_name": "FloatProgressModel",
      "_view_count": null,
      "_view_module": "@jupyter-widgets/controls",
      "_view_module_version": "1.5.0",
      "_view_name": "ProgressView",
      "bar_style": "success",
      "description": "",
      "description_tooltip": null,
      "layout": "IPY_MODEL_0c7b66011a4843c9b6c438984c3f10b3",
      "max": 9912422,
      "min": 0,
      "orientation": "horizontal",
      "style": "IPY_MODEL_a3913b318a2d410faf4deb41646a9359",
      "value": 9912422
     }
    },
    "51b21ee54b944301b2cc7932c8d5ae4f": {
     "model_module": "@jupyter-widgets/base",
     "model_module_version": "1.2.0",
     "model_name": "LayoutModel",
     "state": {
      "_model_module": "@jupyter-widgets/base",
      "_model_module_version": "1.2.0",
      "_model_name": "LayoutModel",
      "_view_count": null,
      "_view_module": "@jupyter-widgets/base",
      "_view_module_version": "1.2.0",
      "_view_name": "LayoutView",
      "align_content": null,
      "align_items": null,
      "align_self": null,
      "border": null,
      "bottom": null,
      "display": null,
      "flex": null,
      "flex_flow": null,
      "grid_area": null,
      "grid_auto_columns": null,
      "grid_auto_flow": null,
      "grid_auto_rows": null,
      "grid_column": null,
      "grid_gap": null,
      "grid_row": null,
      "grid_template_areas": null,
      "grid_template_columns": null,
      "grid_template_rows": null,
      "height": null,
      "justify_content": null,
      "justify_items": null,
      "left": null,
      "margin": null,
      "max_height": null,
      "max_width": null,
      "min_height": null,
      "min_width": null,
      "object_fit": null,
      "object_position": null,
      "order": null,
      "overflow": null,
      "overflow_x": null,
      "overflow_y": null,
      "padding": null,
      "right": null,
      "top": null,
      "visibility": null,
      "width": null
     }
    },
    "565514bcfccf4273945ebea0cf958a64": {
     "model_module": "@jupyter-widgets/controls",
     "model_module_version": "1.5.0",
     "model_name": "ProgressStyleModel",
     "state": {
      "_model_module": "@jupyter-widgets/controls",
      "_model_module_version": "1.5.0",
      "_model_name": "ProgressStyleModel",
      "_view_count": null,
      "_view_module": "@jupyter-widgets/base",
      "_view_module_version": "1.2.0",
      "_view_name": "StyleView",
      "bar_color": null,
      "description_width": ""
     }
    },
    "5a7dbc4299dd41e8b892c64e7c5050e1": {
     "model_module": "@jupyter-widgets/controls",
     "model_module_version": "1.5.0",
     "model_name": "FloatProgressModel",
     "state": {
      "_dom_classes": [],
      "_model_module": "@jupyter-widgets/controls",
      "_model_module_version": "1.5.0",
      "_model_name": "FloatProgressModel",
      "_view_count": null,
      "_view_module": "@jupyter-widgets/controls",
      "_view_module_version": "1.5.0",
      "_view_name": "ProgressView",
      "bar_style": "success",
      "description": "",
      "description_tooltip": null,
      "layout": "IPY_MODEL_aaf8e50ef57646d1ac3be0a3e8afdedd",
      "max": 1648877,
      "min": 0,
      "orientation": "horizontal",
      "style": "IPY_MODEL_ac870fe1ee9448789723ae5fc4d75f49",
      "value": 1648877
     }
    },
    "5d4d431f095049718b122c8f936d5efa": {
     "model_module": "@jupyter-widgets/controls",
     "model_module_version": "1.5.0",
     "model_name": "HBoxModel",
     "state": {
      "_dom_classes": [],
      "_model_module": "@jupyter-widgets/controls",
      "_model_module_version": "1.5.0",
      "_model_name": "HBoxModel",
      "_view_count": null,
      "_view_module": "@jupyter-widgets/controls",
      "_view_module_version": "1.5.0",
      "_view_name": "HBoxView",
      "box_style": "",
      "children": [
       "IPY_MODEL_9acf1c812a594c99b3e4d82d9949c8b7",
       "IPY_MODEL_6471024a770b416c9dbc3e2638cdf240",
       "IPY_MODEL_cad13584f3bf48bfa09a1edb25975b71"
      ],
      "layout": "IPY_MODEL_d1695e06d2734141961622038c002785"
     }
    },
    "5ea5e62165264a5fb9bdfbc3e8520fcf": {
     "model_module": "@jupyter-widgets/controls",
     "model_module_version": "1.5.0",
     "model_name": "HTMLModel",
     "state": {
      "_dom_classes": [],
      "_model_module": "@jupyter-widgets/controls",
      "_model_module_version": "1.5.0",
      "_model_name": "HTMLModel",
      "_view_count": null,
      "_view_module": "@jupyter-widgets/controls",
      "_view_module_version": "1.5.0",
      "_view_name": "HTMLView",
      "description": "",
      "description_tooltip": null,
      "layout": "IPY_MODEL_9eb8d2fba2be4c7da17d80b56bfd5402",
      "placeholder": "​",
      "style": "IPY_MODEL_31adfe3ef8a648229f1d040e33dd6eec",
      "value": " 9913344/? [00:00&lt;00:00, 50530210.32it/s]"
     }
    },
    "6471024a770b416c9dbc3e2638cdf240": {
     "model_module": "@jupyter-widgets/controls",
     "model_module_version": "1.5.0",
     "model_name": "FloatProgressModel",
     "state": {
      "_dom_classes": [],
      "_model_module": "@jupyter-widgets/controls",
      "_model_module_version": "1.5.0",
      "_model_name": "FloatProgressModel",
      "_view_count": null,
      "_view_module": "@jupyter-widgets/controls",
      "_view_module_version": "1.5.0",
      "_view_name": "ProgressView",
      "bar_style": "success",
      "description": "",
      "description_tooltip": null,
      "layout": "IPY_MODEL_bbd737f30d484889a0e321b07371b04f",
      "max": 28881,
      "min": 0,
      "orientation": "horizontal",
      "style": "IPY_MODEL_1f99569b7e8b4555a7edc52cd6598f4a",
      "value": 28881
     }
    },
    "7eaf0cd7efc24800bf0f410d56313cfc": {
     "model_module": "@jupyter-widgets/base",
     "model_module_version": "1.2.0",
     "model_name": "LayoutModel",
     "state": {
      "_model_module": "@jupyter-widgets/base",
      "_model_module_version": "1.2.0",
      "_model_name": "LayoutModel",
      "_view_count": null,
      "_view_module": "@jupyter-widgets/base",
      "_view_module_version": "1.2.0",
      "_view_name": "LayoutView",
      "align_content": null,
      "align_items": null,
      "align_self": null,
      "border": null,
      "bottom": null,
      "display": null,
      "flex": null,
      "flex_flow": null,
      "grid_area": null,
      "grid_auto_columns": null,
      "grid_auto_flow": null,
      "grid_auto_rows": null,
      "grid_column": null,
      "grid_gap": null,
      "grid_row": null,
      "grid_template_areas": null,
      "grid_template_columns": null,
      "grid_template_rows": null,
      "height": null,
      "justify_content": null,
      "justify_items": null,
      "left": null,
      "margin": null,
      "max_height": null,
      "max_width": null,
      "min_height": null,
      "min_width": null,
      "object_fit": null,
      "object_position": null,
      "order": null,
      "overflow": null,
      "overflow_x": null,
      "overflow_y": null,
      "padding": null,
      "right": null,
      "top": null,
      "visibility": null,
      "width": null
     }
    },
    "85fa3b5cf21a43989b58eba8c2cc169a": {
     "model_module": "@jupyter-widgets/controls",
     "model_module_version": "1.5.0",
     "model_name": "DescriptionStyleModel",
     "state": {
      "_model_module": "@jupyter-widgets/controls",
      "_model_module_version": "1.5.0",
      "_model_name": "DescriptionStyleModel",
      "_view_count": null,
      "_view_module": "@jupyter-widgets/base",
      "_view_module_version": "1.2.0",
      "_view_name": "StyleView",
      "description_width": ""
     }
    },
    "92c9bc68a43f4c3c84439468377cde3f": {
     "model_module": "@jupyter-widgets/controls",
     "model_module_version": "1.5.0",
     "model_name": "HTMLModel",
     "state": {
      "_dom_classes": [],
      "_model_module": "@jupyter-widgets/controls",
      "_model_module_version": "1.5.0",
      "_model_name": "HTMLModel",
      "_view_count": null,
      "_view_module": "@jupyter-widgets/controls",
      "_view_module_version": "1.5.0",
      "_view_name": "HTMLView",
      "description": "",
      "description_tooltip": null,
      "layout": "IPY_MODEL_e8fc06f15ae54abe8b36376dbcbd0353",
      "placeholder": "​",
      "style": "IPY_MODEL_19b8ed38009346f89cb1361da3d84713",
      "value": " 5120/? [00:00&lt;00:00, 88267.75it/s]"
     }
    },
    "9666596c2c184bc0bccd471f14cdd86f": {
     "model_module": "@jupyter-widgets/base",
     "model_module_version": "1.2.0",
     "model_name": "LayoutModel",
     "state": {
      "_model_module": "@jupyter-widgets/base",
      "_model_module_version": "1.2.0",
      "_model_name": "LayoutModel",
      "_view_count": null,
      "_view_module": "@jupyter-widgets/base",
      "_view_module_version": "1.2.0",
      "_view_name": "LayoutView",
      "align_content": null,
      "align_items": null,
      "align_self": null,
      "border": null,
      "bottom": null,
      "display": null,
      "flex": null,
      "flex_flow": null,
      "grid_area": null,
      "grid_auto_columns": null,
      "grid_auto_flow": null,
      "grid_auto_rows": null,
      "grid_column": null,
      "grid_gap": null,
      "grid_row": null,
      "grid_template_areas": null,
      "grid_template_columns": null,
      "grid_template_rows": null,
      "height": null,
      "justify_content": null,
      "justify_items": null,
      "left": null,
      "margin": null,
      "max_height": null,
      "max_width": null,
      "min_height": null,
      "min_width": null,
      "object_fit": null,
      "object_position": null,
      "order": null,
      "overflow": null,
      "overflow_x": null,
      "overflow_y": null,
      "padding": null,
      "right": null,
      "top": null,
      "visibility": null,
      "width": null
     }
    },
    "9acf1c812a594c99b3e4d82d9949c8b7": {
     "model_module": "@jupyter-widgets/controls",
     "model_module_version": "1.5.0",
     "model_name": "HTMLModel",
     "state": {
      "_dom_classes": [],
      "_model_module": "@jupyter-widgets/controls",
      "_model_module_version": "1.5.0",
      "_model_name": "HTMLModel",
      "_view_count": null,
      "_view_module": "@jupyter-widgets/controls",
      "_view_module_version": "1.5.0",
      "_view_name": "HTMLView",
      "description": "",
      "description_tooltip": null,
      "layout": "IPY_MODEL_7eaf0cd7efc24800bf0f410d56313cfc",
      "placeholder": "​",
      "style": "IPY_MODEL_23f46dcaec1247f3afc00c0b26f0128a",
      "value": ""
     }
    },
    "9eb8d2fba2be4c7da17d80b56bfd5402": {
     "model_module": "@jupyter-widgets/base",
     "model_module_version": "1.2.0",
     "model_name": "LayoutModel",
     "state": {
      "_model_module": "@jupyter-widgets/base",
      "_model_module_version": "1.2.0",
      "_model_name": "LayoutModel",
      "_view_count": null,
      "_view_module": "@jupyter-widgets/base",
      "_view_module_version": "1.2.0",
      "_view_name": "LayoutView",
      "align_content": null,
      "align_items": null,
      "align_self": null,
      "border": null,
      "bottom": null,
      "display": null,
      "flex": null,
      "flex_flow": null,
      "grid_area": null,
      "grid_auto_columns": null,
      "grid_auto_flow": null,
      "grid_auto_rows": null,
      "grid_column": null,
      "grid_gap": null,
      "grid_row": null,
      "grid_template_areas": null,
      "grid_template_columns": null,
      "grid_template_rows": null,
      "height": null,
      "justify_content": null,
      "justify_items": null,
      "left": null,
      "margin": null,
      "max_height": null,
      "max_width": null,
      "min_height": null,
      "min_width": null,
      "object_fit": null,
      "object_position": null,
      "order": null,
      "overflow": null,
      "overflow_x": null,
      "overflow_y": null,
      "padding": null,
      "right": null,
      "top": null,
      "visibility": null,
      "width": null
     }
    },
    "a3240f3a238848939f611af42b3d4e52": {
     "model_module": "@jupyter-widgets/base",
     "model_module_version": "1.2.0",
     "model_name": "LayoutModel",
     "state": {
      "_model_module": "@jupyter-widgets/base",
      "_model_module_version": "1.2.0",
      "_model_name": "LayoutModel",
      "_view_count": null,
      "_view_module": "@jupyter-widgets/base",
      "_view_module_version": "1.2.0",
      "_view_name": "LayoutView",
      "align_content": null,
      "align_items": null,
      "align_self": null,
      "border": null,
      "bottom": null,
      "display": null,
      "flex": null,
      "flex_flow": null,
      "grid_area": null,
      "grid_auto_columns": null,
      "grid_auto_flow": null,
      "grid_auto_rows": null,
      "grid_column": null,
      "grid_gap": null,
      "grid_row": null,
      "grid_template_areas": null,
      "grid_template_columns": null,
      "grid_template_rows": null,
      "height": null,
      "justify_content": null,
      "justify_items": null,
      "left": null,
      "margin": null,
      "max_height": null,
      "max_width": null,
      "min_height": null,
      "min_width": null,
      "object_fit": null,
      "object_position": null,
      "order": null,
      "overflow": null,
      "overflow_x": null,
      "overflow_y": null,
      "padding": null,
      "right": null,
      "top": null,
      "visibility": null,
      "width": null
     }
    },
    "a3913b318a2d410faf4deb41646a9359": {
     "model_module": "@jupyter-widgets/controls",
     "model_module_version": "1.5.0",
     "model_name": "ProgressStyleModel",
     "state": {
      "_model_module": "@jupyter-widgets/controls",
      "_model_module_version": "1.5.0",
      "_model_name": "ProgressStyleModel",
      "_view_count": null,
      "_view_module": "@jupyter-widgets/base",
      "_view_module_version": "1.2.0",
      "_view_name": "StyleView",
      "bar_color": null,
      "description_width": ""
     }
    },
    "a9ec9c673ccb412e8bb87db039466908": {
     "model_module": "@jupyter-widgets/base",
     "model_module_version": "1.2.0",
     "model_name": "LayoutModel",
     "state": {
      "_model_module": "@jupyter-widgets/base",
      "_model_module_version": "1.2.0",
      "_model_name": "LayoutModel",
      "_view_count": null,
      "_view_module": "@jupyter-widgets/base",
      "_view_module_version": "1.2.0",
      "_view_name": "LayoutView",
      "align_content": null,
      "align_items": null,
      "align_self": null,
      "border": null,
      "bottom": null,
      "display": null,
      "flex": null,
      "flex_flow": null,
      "grid_area": null,
      "grid_auto_columns": null,
      "grid_auto_flow": null,
      "grid_auto_rows": null,
      "grid_column": null,
      "grid_gap": null,
      "grid_row": null,
      "grid_template_areas": null,
      "grid_template_columns": null,
      "grid_template_rows": null,
      "height": null,
      "justify_content": null,
      "justify_items": null,
      "left": null,
      "margin": null,
      "max_height": null,
      "max_width": null,
      "min_height": null,
      "min_width": null,
      "object_fit": null,
      "object_position": null,
      "order": null,
      "overflow": null,
      "overflow_x": null,
      "overflow_y": null,
      "padding": null,
      "right": null,
      "top": null,
      "visibility": null,
      "width": null
     }
    },
    "aaf8e50ef57646d1ac3be0a3e8afdedd": {
     "model_module": "@jupyter-widgets/base",
     "model_module_version": "1.2.0",
     "model_name": "LayoutModel",
     "state": {
      "_model_module": "@jupyter-widgets/base",
      "_model_module_version": "1.2.0",
      "_model_name": "LayoutModel",
      "_view_count": null,
      "_view_module": "@jupyter-widgets/base",
      "_view_module_version": "1.2.0",
      "_view_name": "LayoutView",
      "align_content": null,
      "align_items": null,
      "align_self": null,
      "border": null,
      "bottom": null,
      "display": null,
      "flex": null,
      "flex_flow": null,
      "grid_area": null,
      "grid_auto_columns": null,
      "grid_auto_flow": null,
      "grid_auto_rows": null,
      "grid_column": null,
      "grid_gap": null,
      "grid_row": null,
      "grid_template_areas": null,
      "grid_template_columns": null,
      "grid_template_rows": null,
      "height": null,
      "justify_content": null,
      "justify_items": null,
      "left": null,
      "margin": null,
      "max_height": null,
      "max_width": null,
      "min_height": null,
      "min_width": null,
      "object_fit": null,
      "object_position": null,
      "order": null,
      "overflow": null,
      "overflow_x": null,
      "overflow_y": null,
      "padding": null,
      "right": null,
      "top": null,
      "visibility": null,
      "width": null
     }
    },
    "ac870fe1ee9448789723ae5fc4d75f49": {
     "model_module": "@jupyter-widgets/controls",
     "model_module_version": "1.5.0",
     "model_name": "ProgressStyleModel",
     "state": {
      "_model_module": "@jupyter-widgets/controls",
      "_model_module_version": "1.5.0",
      "_model_name": "ProgressStyleModel",
      "_view_count": null,
      "_view_module": "@jupyter-widgets/base",
      "_view_module_version": "1.2.0",
      "_view_name": "StyleView",
      "bar_color": null,
      "description_width": ""
     }
    },
    "b31fc459edda46eab842fd234014590b": {
     "model_module": "@jupyter-widgets/controls",
     "model_module_version": "1.5.0",
     "model_name": "HTMLModel",
     "state": {
      "_dom_classes": [],
      "_model_module": "@jupyter-widgets/controls",
      "_model_module_version": "1.5.0",
      "_model_name": "HTMLModel",
      "_view_count": null,
      "_view_module": "@jupyter-widgets/controls",
      "_view_module_version": "1.5.0",
      "_view_name": "HTMLView",
      "description": "",
      "description_tooltip": null,
      "layout": "IPY_MODEL_e0a2873694d048f39053c96dd989896b",
      "placeholder": "​",
      "style": "IPY_MODEL_f89264ddf23b455f908e67de41ed0256",
      "value": ""
     }
    },
    "b94df1268cec4d5a957e7142e2f99521": {
     "model_module": "@jupyter-widgets/controls",
     "model_module_version": "1.5.0",
     "model_name": "DescriptionStyleModel",
     "state": {
      "_model_module": "@jupyter-widgets/controls",
      "_model_module_version": "1.5.0",
      "_model_name": "DescriptionStyleModel",
      "_view_count": null,
      "_view_module": "@jupyter-widgets/base",
      "_view_module_version": "1.2.0",
      "_view_name": "StyleView",
      "description_width": ""
     }
    },
    "bbd737f30d484889a0e321b07371b04f": {
     "model_module": "@jupyter-widgets/base",
     "model_module_version": "1.2.0",
     "model_name": "LayoutModel",
     "state": {
      "_model_module": "@jupyter-widgets/base",
      "_model_module_version": "1.2.0",
      "_model_name": "LayoutModel",
      "_view_count": null,
      "_view_module": "@jupyter-widgets/base",
      "_view_module_version": "1.2.0",
      "_view_name": "LayoutView",
      "align_content": null,
      "align_items": null,
      "align_self": null,
      "border": null,
      "bottom": null,
      "display": null,
      "flex": null,
      "flex_flow": null,
      "grid_area": null,
      "grid_auto_columns": null,
      "grid_auto_flow": null,
      "grid_auto_rows": null,
      "grid_column": null,
      "grid_gap": null,
      "grid_row": null,
      "grid_template_areas": null,
      "grid_template_columns": null,
      "grid_template_rows": null,
      "height": null,
      "justify_content": null,
      "justify_items": null,
      "left": null,
      "margin": null,
      "max_height": null,
      "max_width": null,
      "min_height": null,
      "min_width": null,
      "object_fit": null,
      "object_position": null,
      "order": null,
      "overflow": null,
      "overflow_x": null,
      "overflow_y": null,
      "padding": null,
      "right": null,
      "top": null,
      "visibility": null,
      "width": null
     }
    },
    "cad13584f3bf48bfa09a1edb25975b71": {
     "model_module": "@jupyter-widgets/controls",
     "model_module_version": "1.5.0",
     "model_name": "HTMLModel",
     "state": {
      "_dom_classes": [],
      "_model_module": "@jupyter-widgets/controls",
      "_model_module_version": "1.5.0",
      "_model_name": "HTMLModel",
      "_view_count": null,
      "_view_module": "@jupyter-widgets/controls",
      "_view_module_version": "1.5.0",
      "_view_name": "HTMLView",
      "description": "",
      "description_tooltip": null,
      "layout": "IPY_MODEL_1ff14fce5ed0490894dfb6b8e9ced961",
      "placeholder": "​",
      "style": "IPY_MODEL_85fa3b5cf21a43989b58eba8c2cc169a",
      "value": " 29696/? [00:00&lt;00:00, 525382.69it/s]"
     }
    },
    "ccc85d4180da46a8afdc951b0c05acc1": {
     "model_module": "@jupyter-widgets/base",
     "model_module_version": "1.2.0",
     "model_name": "LayoutModel",
     "state": {
      "_model_module": "@jupyter-widgets/base",
      "_model_module_version": "1.2.0",
      "_model_name": "LayoutModel",
      "_view_count": null,
      "_view_module": "@jupyter-widgets/base",
      "_view_module_version": "1.2.0",
      "_view_name": "LayoutView",
      "align_content": null,
      "align_items": null,
      "align_self": null,
      "border": null,
      "bottom": null,
      "display": null,
      "flex": null,
      "flex_flow": null,
      "grid_area": null,
      "grid_auto_columns": null,
      "grid_auto_flow": null,
      "grid_auto_rows": null,
      "grid_column": null,
      "grid_gap": null,
      "grid_row": null,
      "grid_template_areas": null,
      "grid_template_columns": null,
      "grid_template_rows": null,
      "height": null,
      "justify_content": null,
      "justify_items": null,
      "left": null,
      "margin": null,
      "max_height": null,
      "max_width": null,
      "min_height": null,
      "min_width": null,
      "object_fit": null,
      "object_position": null,
      "order": null,
      "overflow": null,
      "overflow_x": null,
      "overflow_y": null,
      "padding": null,
      "right": null,
      "top": null,
      "visibility": null,
      "width": null
     }
    },
    "d1695e06d2734141961622038c002785": {
     "model_module": "@jupyter-widgets/base",
     "model_module_version": "1.2.0",
     "model_name": "LayoutModel",
     "state": {
      "_model_module": "@jupyter-widgets/base",
      "_model_module_version": "1.2.0",
      "_model_name": "LayoutModel",
      "_view_count": null,
      "_view_module": "@jupyter-widgets/base",
      "_view_module_version": "1.2.0",
      "_view_name": "LayoutView",
      "align_content": null,
      "align_items": null,
      "align_self": null,
      "border": null,
      "bottom": null,
      "display": null,
      "flex": null,
      "flex_flow": null,
      "grid_area": null,
      "grid_auto_columns": null,
      "grid_auto_flow": null,
      "grid_auto_rows": null,
      "grid_column": null,
      "grid_gap": null,
      "grid_row": null,
      "grid_template_areas": null,
      "grid_template_columns": null,
      "grid_template_rows": null,
      "height": null,
      "justify_content": null,
      "justify_items": null,
      "left": null,
      "margin": null,
      "max_height": null,
      "max_width": null,
      "min_height": null,
      "min_width": null,
      "object_fit": null,
      "object_position": null,
      "order": null,
      "overflow": null,
      "overflow_x": null,
      "overflow_y": null,
      "padding": null,
      "right": null,
      "top": null,
      "visibility": null,
      "width": null
     }
    },
    "d1dc6692efd545c1bb082bfdbeb51b9a": {
     "model_module": "@jupyter-widgets/controls",
     "model_module_version": "1.5.0",
     "model_name": "HTMLModel",
     "state": {
      "_dom_classes": [],
      "_model_module": "@jupyter-widgets/controls",
      "_model_module_version": "1.5.0",
      "_model_name": "HTMLModel",
      "_view_count": null,
      "_view_module": "@jupyter-widgets/controls",
      "_view_module_version": "1.5.0",
      "_view_name": "HTMLView",
      "description": "",
      "description_tooltip": null,
      "layout": "IPY_MODEL_a3240f3a238848939f611af42b3d4e52",
      "placeholder": "​",
      "style": "IPY_MODEL_0fde05067ac548a1b786b2cd24221e74",
      "value": " 1649664/? [00:00&lt;00:00, 18162611.93it/s]"
     }
    },
    "d77c42f319b54223be541183b6707e2e": {
     "model_module": "@jupyter-widgets/controls",
     "model_module_version": "1.5.0",
     "model_name": "DescriptionStyleModel",
     "state": {
      "_model_module": "@jupyter-widgets/controls",
      "_model_module_version": "1.5.0",
      "_model_name": "DescriptionStyleModel",
      "_view_count": null,
      "_view_module": "@jupyter-widgets/base",
      "_view_module_version": "1.2.0",
      "_view_name": "StyleView",
      "description_width": ""
     }
    },
    "dd45ab9b340c489dbf8a9946f1157491": {
     "model_module": "@jupyter-widgets/controls",
     "model_module_version": "1.5.0",
     "model_name": "HBoxModel",
     "state": {
      "_dom_classes": [],
      "_model_module": "@jupyter-widgets/controls",
      "_model_module_version": "1.5.0",
      "_model_name": "HBoxModel",
      "_view_count": null,
      "_view_module": "@jupyter-widgets/controls",
      "_view_module_version": "1.5.0",
      "_view_name": "HBoxView",
      "box_style": "",
      "children": [
       "IPY_MODEL_01e4915ede4144ac82ffad111e39775f",
       "IPY_MODEL_5a7dbc4299dd41e8b892c64e7c5050e1",
       "IPY_MODEL_d1dc6692efd545c1bb082bfdbeb51b9a"
      ],
      "layout": "IPY_MODEL_11e6ba02a35a4eae8d57c31d1a8314d5"
     }
    },
    "e0a2873694d048f39053c96dd989896b": {
     "model_module": "@jupyter-widgets/base",
     "model_module_version": "1.2.0",
     "model_name": "LayoutModel",
     "state": {
      "_model_module": "@jupyter-widgets/base",
      "_model_module_version": "1.2.0",
      "_model_name": "LayoutModel",
      "_view_count": null,
      "_view_module": "@jupyter-widgets/base",
      "_view_module_version": "1.2.0",
      "_view_name": "LayoutView",
      "align_content": null,
      "align_items": null,
      "align_self": null,
      "border": null,
      "bottom": null,
      "display": null,
      "flex": null,
      "flex_flow": null,
      "grid_area": null,
      "grid_auto_columns": null,
      "grid_auto_flow": null,
      "grid_auto_rows": null,
      "grid_column": null,
      "grid_gap": null,
      "grid_row": null,
      "grid_template_areas": null,
      "grid_template_columns": null,
      "grid_template_rows": null,
      "height": null,
      "justify_content": null,
      "justify_items": null,
      "left": null,
      "margin": null,
      "max_height": null,
      "max_width": null,
      "min_height": null,
      "min_width": null,
      "object_fit": null,
      "object_position": null,
      "order": null,
      "overflow": null,
      "overflow_x": null,
      "overflow_y": null,
      "padding": null,
      "right": null,
      "top": null,
      "visibility": null,
      "width": null
     }
    },
    "e8fc06f15ae54abe8b36376dbcbd0353": {
     "model_module": "@jupyter-widgets/base",
     "model_module_version": "1.2.0",
     "model_name": "LayoutModel",
     "state": {
      "_model_module": "@jupyter-widgets/base",
      "_model_module_version": "1.2.0",
      "_model_name": "LayoutModel",
      "_view_count": null,
      "_view_module": "@jupyter-widgets/base",
      "_view_module_version": "1.2.0",
      "_view_name": "LayoutView",
      "align_content": null,
      "align_items": null,
      "align_self": null,
      "border": null,
      "bottom": null,
      "display": null,
      "flex": null,
      "flex_flow": null,
      "grid_area": null,
      "grid_auto_columns": null,
      "grid_auto_flow": null,
      "grid_auto_rows": null,
      "grid_column": null,
      "grid_gap": null,
      "grid_row": null,
      "grid_template_areas": null,
      "grid_template_columns": null,
      "grid_template_rows": null,
      "height": null,
      "justify_content": null,
      "justify_items": null,
      "left": null,
      "margin": null,
      "max_height": null,
      "max_width": null,
      "min_height": null,
      "min_width": null,
      "object_fit": null,
      "object_position": null,
      "order": null,
      "overflow": null,
      "overflow_x": null,
      "overflow_y": null,
      "padding": null,
      "right": null,
      "top": null,
      "visibility": null,
      "width": null
     }
    },
    "f6d16c5dd3184f8d9534726f6a476b47": {
     "model_module": "@jupyter-widgets/controls",
     "model_module_version": "1.5.0",
     "model_name": "HBoxModel",
     "state": {
      "_dom_classes": [],
      "_model_module": "@jupyter-widgets/controls",
      "_model_module_version": "1.5.0",
      "_model_name": "HBoxModel",
      "_view_count": null,
      "_view_module": "@jupyter-widgets/controls",
      "_view_module_version": "1.5.0",
      "_view_name": "HBoxView",
      "box_style": "",
      "children": [
       "IPY_MODEL_3e2fc37deb1e43859b5e897978a6194a",
       "IPY_MODEL_31348e22d64645b2ae43d12b91345f6d",
       "IPY_MODEL_92c9bc68a43f4c3c84439468377cde3f"
      ],
      "layout": "IPY_MODEL_9666596c2c184bc0bccd471f14cdd86f"
     }
    },
    "f89264ddf23b455f908e67de41ed0256": {
     "model_module": "@jupyter-widgets/controls",
     "model_module_version": "1.5.0",
     "model_name": "DescriptionStyleModel",
     "state": {
      "_model_module": "@jupyter-widgets/controls",
      "_model_module_version": "1.5.0",
      "_model_name": "DescriptionStyleModel",
      "_view_count": null,
      "_view_module": "@jupyter-widgets/base",
      "_view_module_version": "1.2.0",
      "_view_name": "StyleView",
      "description_width": ""
     }
    },
    "fefe0aff8cae44d6a9749f367727e9ea": {
     "model_module": "@jupyter-widgets/base",
     "model_module_version": "1.2.0",
     "model_name": "LayoutModel",
     "state": {
      "_model_module": "@jupyter-widgets/base",
      "_model_module_version": "1.2.0",
      "_model_name": "LayoutModel",
      "_view_count": null,
      "_view_module": "@jupyter-widgets/base",
      "_view_module_version": "1.2.0",
      "_view_name": "LayoutView",
      "align_content": null,
      "align_items": null,
      "align_self": null,
      "border": null,
      "bottom": null,
      "display": null,
      "flex": null,
      "flex_flow": null,
      "grid_area": null,
      "grid_auto_columns": null,
      "grid_auto_flow": null,
      "grid_auto_rows": null,
      "grid_column": null,
      "grid_gap": null,
      "grid_row": null,
      "grid_template_areas": null,
      "grid_template_columns": null,
      "grid_template_rows": null,
      "height": null,
      "justify_content": null,
      "justify_items": null,
      "left": null,
      "margin": null,
      "max_height": null,
      "max_width": null,
      "min_height": null,
      "min_width": null,
      "object_fit": null,
      "object_position": null,
      "order": null,
      "overflow": null,
      "overflow_x": null,
      "overflow_y": null,
      "padding": null,
      "right": null,
      "top": null,
      "visibility": null,
      "width": null
     }
    }
   }
  }
 },
 "nbformat": 4,
 "nbformat_minor": 1
}
