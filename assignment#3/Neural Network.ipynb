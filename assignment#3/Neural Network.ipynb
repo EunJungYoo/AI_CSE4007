{
 "cells": [
  {
   "cell_type": "code",
   "execution_count": 103,
   "metadata": {},
   "outputs": [
    {
     "data": {
      "text/plain": [
       "array([ 2,  4,  6,  8, 10])"
      ]
     },
     "execution_count": 103,
     "metadata": {},
     "output_type": "execute_result"
    }
   ],
   "source": [
    "import random\n",
    "import numpy as np\n",
    "import numpy\n",
    "from math import exp,log\n",
    "from matplotlib import pyplot as plt\n",
    "import time\n",
    "\n",
    "a = np.array([2,4,6,8,10])\n",
    "b = np.array([1,3])\n",
    "\n",
    "a[b]\n",
    "a[a>5]\n",
    "a[a%2==0]"
   ]
  },
  {
   "cell_type": "code",
   "execution_count": 104,
   "metadata": {},
   "outputs": [],
   "source": [
    "x_seeds = np.array([(0,0),(1,0),(0,1),(1,1)],dtype=np.float)\n",
    "y_seeds = np.array([0,1,1,0])"
   ]
  },
  {
   "cell_type": "code",
   "execution_count": 105,
   "metadata": {},
   "outputs": [],
   "source": [
    "N = 1000\n",
    "idxs = np.random.randint(0,4,N)"
   ]
  },
  {
   "cell_type": "code",
   "execution_count": 106,
   "metadata": {},
   "outputs": [],
   "source": [
    "X = x_seeds[idxs]\n",
    "Y = y_seeds[idxs]"
   ]
  },
  {
   "cell_type": "code",
   "execution_count": 107,
   "metadata": {},
   "outputs": [],
   "source": [
    "X += np.random.normal(scale = 0.25, size = X.shape)"
   ]
  },
  {
   "cell_type": "code",
   "execution_count": 108,
   "metadata": {},
   "outputs": [],
   "source": [
    "idxs_1 = np.where(Y==1)\n",
    "idxs_0 = np.where(Y==0)\n"
   ]
  },
  {
   "cell_type": "code",
   "execution_count": 109,
   "metadata": {},
   "outputs": [],
   "source": [
    "X_0 = X[idxs_0]\n",
    "Y_0 = Y[idxs_0]"
   ]
  },
  {
   "cell_type": "code",
   "execution_count": 110,
   "metadata": {},
   "outputs": [],
   "source": [
    "X_1 = X[idxs_1]\n",
    "Y_1 = Y[idxs_1]"
   ]
  },
  {
   "cell_type": "code",
   "execution_count": 111,
   "metadata": {},
   "outputs": [
    {
     "data": {
      "image/png": "[encoded data removed]",
      "text/plain": [
       "<Figure size 432x288 with 1 Axes>"
      ]
     },
     "metadata": {
      "needs_background": "light"
     },
     "output_type": "display_data"
    }
   ],
   "source": [
    "plt.plot(X_0[:,0],X_0[:,1],\"r^\")\n",
    "plt.plot(X_1[:,0],X_1[:,1],\"bx\")\n",
    "plt.show()"
   ]
  },
  {
   "cell_type": "code",
   "execution_count": 112,
   "metadata": {},
   "outputs": [],
   "source": [
    "class shallow_neural_network():\n",
    "    def __init__(self,num_input_features, num_hiddens):\n",
    "        self.num_input_features = num_input_features\n",
    "        self.num_hiddens = num_hiddens\n",
    "        \n",
    "        self.W1 = np.random.normal(size = (num_hiddens, num_input_features))\n",
    "        self.b1 = np.random.normal(size = num_hiddens)\n",
    "        self.W2 = np.random.normal(size = num_hiddens)\n",
    "        self.b2 = np.random.normal(size = 1)\n",
    "        \n",
    "    def sigmoid(self,z):\n",
    "        return 1/(1+np.exp(-z))\n",
    "        \n",
    "    def predict(self,x):\n",
    "        z1 = np.matmul(self.W1,x) + self.b1\n",
    "        a1 = np.tanh(z1)\n",
    "        z2 = np.matmul(self.W2,a1) + self.b2\n",
    "        a2 = self.sigmoid(z2)\n",
    "        return a2, (z1,a1,z2,a2)\n"
   ]
  },
  {
   "cell_type": "code",
   "execution_count": 113,
   "metadata": {},
   "outputs": [],
   "source": [
    "model = shallow_neural_network(2,3)"
   ]
  },
  {
   "cell_type": "code",
   "execution_count": 114,
   "metadata": {},
   "outputs": [],
   "source": [
    "def train(X,Y,model,lr=0.1):\n",
    "    dW1 = np.zeros_like(model.W1)\n",
    "    db1 = np.zeros_like(model.b1)\n",
    "    dW2 = np.zeros_like(model.W2)\n",
    "    db2 = np.zeros_like(model.b2)\n",
    "\n",
    "    m = len(X)\n",
    "    cost = 0.0\n",
    "    for x,y in zip(X,Y):\n",
    "        a2, (z1,a1,z2, _) = model.predict(x)\n",
    "        if y == 1:\n",
    "            cost -= np.log(a2)\n",
    "        else : \n",
    "            cost -= np.log(1-a2)\n",
    "        diff = a2-y\n",
    "        #layer 2\n",
    "        #db 2\n",
    "        \n",
    "        db2+=diff\n",
    "        dW2 += a1*diff\n",
    "        db1 += (1-a1**2)*model.W2*diff\n",
    "        dW1 += numpy.outer((1-a1**2)*model.W2*diff,x)\n",
    "\n",
    "    cost /= m\n",
    "    model.W1 -= lr * dW1/m\n",
    "    model.b1 -= lr * db1/m\n",
    "    model.W2 -= lr * dW2 /m\n",
    "    model.b2 -= lr * db2/m\n",
    "        \n",
    "    return cost\n",
    "        "
   ]
  },
  {
   "cell_type": "code",
   "execution_count": null,
   "metadata": {},
   "outputs": [],
   "source": []
  },
  {
   "cell_type": "code",
   "execution_count": 115,
   "metadata": {},
   "outputs": [
    {
     "name": "stdout",
     "output_type": "stream",
     "text": [
      "0 [0.71532427]\n",
      "10 [0.63008489]\n",
      "20 [0.58660067]\n",
      "30 [0.55212391]\n",
      "40 [0.52846022]\n",
      "50 [0.51115897]\n",
      "60 [0.49827408]\n",
      "70 [0.48849127]\n",
      "80 [0.48090411]\n",
      "90 [0.47489618]\n",
      "100 [0.47004636]\n",
      "110 [0.46606287]\n",
      "120 [0.46273983]\n",
      "130 [0.45992918]\n",
      "140 [0.4575224]\n",
      "150 [0.45543844]\n",
      "160 [0.45361568]\n",
      "170 [0.45200641]\n",
      "180 [0.45057299]\n",
      "190 [0.44928504]\n",
      "200 [0.44811738]\n",
      "210 [0.44704832]\n",
      "220 [0.44605807]\n",
      "230 [0.4451269]\n",
      "240 [0.44423248]\n",
      "250 [0.44334493]\n",
      "260 [0.44241544]\n",
      "270 [0.44134517]\n",
      "280 [0.43987574]\n",
      "290 [0.43703237]\n",
      "300 [0.42541929]\n",
      "310 [0.32567375]\n",
      "320 [0.26221616]\n",
      "330 [0.23562289]\n",
      "340 [0.21851771]\n",
      "350 [0.20593253]\n",
      "360 [0.19622833]\n",
      "370 [0.18860522]\n",
      "380 [0.18253919]\n",
      "390 [0.17764988]\n",
      "400 [0.1736558]\n",
      "410 [0.17034834]\n",
      "420 [0.16757287]\n",
      "430 [0.16521433]\n",
      "440 [0.16318648]\n",
      "450 [0.16142415]\n",
      "460 [0.15987756]\n",
      "470 [0.15850825]\n",
      "480 [0.15728617]\n",
      "490 [0.1561876]\n",
      "time : 15.857070207595825\n"
     ]
    }
   ],
   "source": [
    "start = time.time()\n",
    "for epoch in range(500):\n",
    "    cost = train(X,Y,model,1.0)\n",
    "    if epoch % 10 == 0:\n",
    "        print(epoch, cost)\n",
    "print(\"time :\", time.time() - start)"
   ]
  },
  {
   "cell_type": "code",
   "execution_count": 116,
   "metadata": {},
   "outputs": [
    {
     "data": {
      "text/plain": [
       "0.016106548660784255"
      ]
     },
     "execution_count": 116,
     "metadata": {},
     "output_type": "execute_result"
    }
   ],
   "source": [
    "model.predict((1,1))[0].item()"
   ]
  },
  {
   "cell_type": "code",
   "execution_count": 117,
   "metadata": {},
   "outputs": [
    {
     "data": {
      "text/plain": [
       "0.9662603330826464"
      ]
     },
     "execution_count": 117,
     "metadata": {},
     "output_type": "execute_result"
    }
   ],
   "source": [
    "model.predict((1,0))[0].item()"
   ]
  },
  {
   "cell_type": "code",
   "execution_count": 118,
   "metadata": {},
   "outputs": [
    {
     "data": {
      "text/plain": [
       "0.9962493261078695"
      ]
     },
     "execution_count": 118,
     "metadata": {},
     "output_type": "execute_result"
    }
   ],
   "source": [
    "model.predict((0,1))[0].item()"
   ]
  },
  {
   "cell_type": "code",
   "execution_count": 119,
   "metadata": {},
   "outputs": [
    {
     "data": {
      "text/plain": [
       "0.00921961914065226"
      ]
     },
     "execution_count": 119,
     "metadata": {},
     "output_type": "execute_result"
    }
   ],
   "source": [
    "model.predict((0,0))[0].item()"
   ]
  }
 ],
 "metadata": {
  "kernelspec": {
   "display_name": "Python 3",
   "language": "python",
   "name": "python3"
  },
  "language_info": {
   "codemirror_mode": {
    "name": "ipython",
    "version": 3
   },
   "file_extension": ".py",
   "mimetype": "text/x-python",
   "name": "python",
   "nbconvert_exporter": "python",
   "pygments_lexer": "ipython3",
   "version": "3.8.5"
  }
 },
 "nbformat": 4,
 "nbformat_minor": 4
}
